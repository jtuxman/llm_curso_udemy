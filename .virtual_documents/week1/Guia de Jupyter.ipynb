


# Haga clic en cualquier lugar de esta celda y presione Shift + Intro

2 + 2





# Definir el valor de una variable

favorite_fruit = "manzanas"


# El resultado de la última declaración se muestra después de ejecutarla.

favorite_fruit


# Usamos la variable

print(f"Mis frutas favorita son {favorite_fruit}")


# Vamos a cambiar el valor de la variable

favorite_fruit = f"cualquiera excepto las {favorite_fruit}"





# Luego ejecuta esta celda dos veces y comprueba si entiendes lo que está pasando.

print(f"Mis frutas favorita son {favorite_fruit}")

favorite_fruit = "manzanas"





print(f"Mis frutas favorita son {favorite_fruit}")











spams = ["spam"] * 1000
print(spams)

# ¡Podría valer la pena borrar la salida después de ejecutar esto!











# lista el directorio actual

!ls


# ping cnn.com - presiona el botón de detener en la barra de herramientas cuando estés aburrido

!ping cnn.com


# Este es un comando útil que garantiza que tu entorno Anaconda
# esté actualizado con cualquier nueva actualización de los paquetes;
# Pero puede demorar un minuto e imprimirá mucho en la salida

!conda env update -f ../environment.yml --prune





# Aquí hay un código sin barra de progreso
# Tomará 10 segundos mientras te preguntas qué está pasando...

import time

spams = ["spam"] * 1000

for spam in spams:
    time.sleep(0.01)


# Y ahora, con una bonita barra de progreso:

import time
from tqdm import tqdm

spams = ["spam"] * 1000

for spam in tqdm(spams):
    time.sleep(0.01)


# En otro tema, aquí hay una forma útil de imprimir la salida en Markdown

from IPython.display import Markdown, display

display(Markdown("# ¡Esto es un título!\n\n- Esto es un ítem de una lista\n- Esto también\n- Y por supuesto, ¡yo también!"))







