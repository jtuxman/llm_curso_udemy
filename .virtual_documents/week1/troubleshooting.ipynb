





# Esto debería ejecutarse sin salida, sin errores de importación.
# Los errores de importación podrían indicar que iniciaste Jupyter Lab sin tu entorno activado. Consulta la parte 5 de CONFIGURACIÓN.

from openai import OpenAI





from pathlib import Path

parent_dir = Path("..")
env_path = parent_dir / ".env"

if env_path.exists() and env_path.is_file():
    print("Fichero .env encontrado.")

    # Lee el contenido del fichero .env
    with env_path.open("r") as env_file:
        contents = env_file.readlines()

    key_exists = any(line.startswith("OPENAI_API_KEY=") for line in contents)
    good_key = any(line.startswith("OPENAI_API_KEY=sk-proj-") for line in contents)
    
    if key_exists and good_key:
        print("¡ÉXITO! Se encontró OPENAI_API_KEY y tiene el prefijo correcto")
    elif key_exists:
        print("Se encontró una OPENAI_API_KEY aunque no tenía el prefijo esperado sk-proj- \nVerifique nuevamente su clave en el archivo.")
    else:
        print("No encontré un OPENAI_API_KEY en el archivo .env")
else:
    print("El archivo .env no se encuentra en el directorio llm_engineering. Debe tener exactamente el nombre: .env")
    
    possible_misnamed_files = list(parent_dir.glob("*.env*"))
    
    if possible_misnamed_files:
        print("\nAdvertencia: No se encontró ningún archivo '.env', pero se encontraron los siguientes archivos en el directorio llm_engineering que contienen '.env' en el nombre. ¿Quizás sea necesario cambiar el nombre?")
        for file in possible_misnamed_files:
            print(file.name)





# Esto debería imprimir tu clave API en la salida

import os
from dotenv import load_dotenv
load_dotenv()

api_key = os.getenv("OPENAI_API_KEY")

if not api_key:
    print("No se encontró ninguna clave API: intente con el menú Kernel >> Reiniciar Kernel y borrar las salidas de todas las celdas")
elif api_key[:8]!="sk-proj-":
    print("Se encontró una clave API, pero no empieza por sk-proj-; verifique que esté usando la clave correcta")
elif api_key.strip() != api_key:
    print("Se encontró una clave API, pero parece que podría tener espacios o caracteres de tabulación al principio o al final; elimínelos")
else:
    print("Se encontró la clave API y hasta ahora parece buena!")

print("Mi clave es", os.getenv("OPENAI_API_KEY"))








from openai import OpenAI

# O BIEN:
my_api_key = os.getenv("OPENAI_API_KEY")

# O si no ha podido hacer que .env funcione, descomente la siguiente línea y pegue su clave dentro de las comillas
# my_api_key = "REEMPLACE ESTE TEXTO CON SU CLAVE DE API DE OPENAI DENTRO DE LAS COMILLAS - debería comenzar con sk-proj-"

print(f"Using API key {my_api_key}")

openai = OpenAI(api_key=my_api_key)
completion = openai.chat.completions.create(
    model='gpt-4o-mini',
    messages=[{"role":"user", "content": "What's 2+2?"}],
)
print(completion.choices[0].message.content)






