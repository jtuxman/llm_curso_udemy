{
 "cells": [
  {
   "cell_type": "markdown",
   "id": "a98030af-fcd1-4d63-a36e-38ba053498fa",
   "metadata": {},
   "source": [
    "# Una solución empresarial completa\n",
    "\n",
    "## Ahora llevaremos nuestro proyecto del día 1 al siguiente nivel\n",
    "\n",
    "### DESAFÍO EMPRESARIAL:\n",
    "\n",
    "Crear un producto que genere un folleto para una empresa que se utilizará para posibles clientes, inversores y posibles reclutas.\n",
    "\n",
    "Se nos proporcionará un nombre de empresa y su sitio web principal.\n",
    "\n",
    "Consulte el final de este cuaderno para ver ejemplos de aplicaciones empresariales del mundo real.\n",
    "\n",
    "Y recuerde: ¡siempre estoy disponible si tiene problemas o ideas! No dude en comunicarse conmigo."
   ]
  },
  {
   "cell_type": "code",
   "execution_count": null,
   "id": "d5b08506-dc8b-4443-9201-5f1848161363",
   "metadata": {},
   "outputs": [],
   "source": [
    "# imports\n",
    "# Si esto falla, verifica que esté ejecutándose desde un entorno \"activado\" con (llms) en el símbolo del sistema\n",
    "\n",
    "import os\n",
    "import requests\n",
    "import json\n",
    "from typing import List\n",
    "from dotenv import load_dotenv\n",
    "from bs4 import BeautifulSoup\n",
    "from IPython.display import Markdown, display, update_display\n",
    "from openai import OpenAI"
   ]
  },
  {
   "cell_type": "code",
   "execution_count": null,
   "id": "fc5d8880-f2ee-4c06-af16-ecbc0262af61",
   "metadata": {},
   "outputs": [],
   "source": [
    "# Inicialización y constantes and constants\n",
    "\n",
    "load_dotenv()\n",
    "api_key = os.getenv('OPENAI_API_KEY')\n",
    "\n",
    "if api_key and api_key[:8]=='sk-proj-':\n",
    "    print(\"La clave de API parece buena\")\n",
    "else:\n",
    "    print(\"¿Puede haber un problema con tu clave API? ¡Visita el cuaderno de resolución de problemas!\")\n",
    "    \n",
    "MODEL = 'gpt-4o-mini'\n",
    "openai = OpenAI()"
   ]
  },
  {
   "cell_type": "code",
   "execution_count": null,
   "id": "106dd65e-90af-4ca8-86b6-23a41840645b",
   "metadata": {},
   "outputs": [],
   "source": [
    "# La clase para representar una Página Web\n",
    "\n",
    "class Website:\n",
    "    \"\"\"\n",
    "    Una clase de utilidad para representar un sitio web que hemos scrappeado, ahora con enlaces\n",
    "    \"\"\"\n",
    "\n",
    "    def __init__(self, url):\n",
    "        self.url = url\n",
    "        response = requests.get(url)\n",
    "        self.body = response.content\n",
    "        soup = BeautifulSoup(self.body, 'html.parser')\n",
    "        self.title = soup.title.string if soup.title else \"Sin título\"\n",
    "        if soup.body:\n",
    "            for irrelevant in soup.body([\"script\", \"style\", \"img\", \"input\"]):\n",
    "                irrelevant.decompose()\n",
    "            self.text = soup.body.get_text(separator=\"\\n\", strip=True)\n",
    "        else:\n",
    "            self.text = \"\"\n",
    "        links = [link.get('href') for link in soup.find_all('a')]\n",
    "        self.links = [link for link in links if link]\n",
    "\n",
    "    def get_contents(self):\n",
    "        return f\"Título de la Web:\\n{self.title}\\nContenido de la Web:\\n{self.text}\\n\\n\""
   ]
  },
  {
   "cell_type": "code",
   "execution_count": null,
   "id": "e30d8128-933b-44cc-81c8-ab4c9d86589a",
   "metadata": {},
   "outputs": [],
   "source": [
    "frog = Website(\"https://cursos.frogamesformacion.com\")\n",
    "print(frog.get_contents())\n",
    "frog.links"
   ]
  },
  {
   "cell_type": "markdown",
   "id": "1771af9c-717a-4fca-bbbe-8a95893312c3",
   "metadata": {},
   "source": [
    "## Primer paso: hacer que GPT-4o-mini determine qué enlaces son relevantes\n",
    "\n",
    "### Usar una llamada a gpt-4o-mini para leer los enlaces en una página web y responder en JSON estructurado.\n",
    "Debería decidir qué enlaces son relevantes y reemplazar los enlaces relativos como \"/about\" con \"https://company.com/about\".\n",
    "Usaremos \"one shot prompting\" en las que proporcionamos un ejemplo de cómo debería responder en la solicitud.\n",
    "\n",
    "Este es un excelente caso de uso para un LLM, porque requiere una comprensión matizada. Imagínate intentar programar esto sin LLMs analizando la página web: ¡sería muy difícil!\n",
    "\n",
    "Nota al margen: existe una técnica más avanzada llamada \"Salidas estructuradas\" en la que requerimos que el modelo responda de acuerdo con una especificación. Cubrimos esta técnica en la Semana 8 durante nuestro proyecto autónomo de inteligencia artificial Agentic."
   ]
  },
  {
   "cell_type": "code",
   "execution_count": null,
   "id": "6957b079-0d96-45f7-a26a-3487510e9b35",
   "metadata": {},
   "outputs": [],
   "source": [
    "link_system_prompt = \"Se te proporciona una lista de enlaces que se encuentran en una página web. \\\n",
    "Puedes decidir cuáles de los enlaces serían los más relevantes para incluir en un folleto sobre la empresa, \\\n",
    "como enlaces a una página Acerca de, una página de la empresa, las carreras/empleos disponibles o páginas de Cursos/Packs.\\n\"\n",
    "link_system_prompt += \"Debes responder en JSON como en este ejemplo:\"\n",
    "link_system_prompt += \"\"\"\n",
    "{\n",
    "    \"links\": [\n",
    "        {\"type\": \"Pagina Sobre nosotros\", \"url\": \"https://url.completa/aqui/va/sobre/nosotros\"},\n",
    "        {\"type\": \"Pagina de Cursos\": \"url\": \"https://otra.url.completa/courses\"}\n",
    "    ]\n",
    "}\n",
    "\"\"\""
   ]
  },
  {
   "cell_type": "code",
   "execution_count": null,
   "id": "b97e4068-97ed-4120-beae-c42105e4d59a",
   "metadata": {},
   "outputs": [],
   "source": [
    "print(link_system_prompt)"
   ]
  },
  {
   "cell_type": "code",
   "execution_count": null,
   "id": "8e1f601b-2eaf-499d-b6b8-c99050c9d6b3",
   "metadata": {},
   "outputs": [],
   "source": [
    "def get_links_user_prompt(website):\n",
    "    user_prompt = f\"Aquí hay una lista de enlaces de la página web {website.url} - \"\n",
    "    user_prompt += \"Por favor, decide cuáles de estos son enlaces web relevantes para un folleto sobre la empresa. Responde con la URL https completa en formato JSON. \\\n",
    "No incluyas Términos y Condiciones, Privacidad ni enlaces de correo electrónico.\\n\"\n",
    "    user_prompt += \"Links (puede que algunos sean links relativos):\\n\"\n",
    "    user_prompt += \"\\n\".join(website.links)\n",
    "    return user_prompt"
   ]
  },
  {
   "cell_type": "code",
   "execution_count": null,
   "id": "6bcbfa78-6395-4685-b92c-22d592050fd7",
   "metadata": {},
   "outputs": [],
   "source": [
    "print(get_links_user_prompt(frog))"
   ]
  },
  {
   "cell_type": "code",
   "execution_count": null,
   "id": "a29aca19-ca13-471c-a4b4-5abbfa813f69",
   "metadata": {},
   "outputs": [],
   "source": [
    "def get_links(url):\n",
    "    website = Website(url)\n",
    "    response = openai.chat.completions.create(\n",
    "        model=MODEL,\n",
    "        messages=[\n",
    "            {\"role\": \"system\", \"content\": link_system_prompt},\n",
    "            {\"role\": \"user\", \"content\": get_links_user_prompt(website)}\n",
    "      ],\n",
    "        response_format={\"type\": \"json_object\"}\n",
    "    )\n",
    "    result = response.choices[0].message.content\n",
    "    return json.loads(result)"
   ]
  },
  {
   "cell_type": "code",
   "execution_count": null,
   "id": "74a827a0-2782-4ae5-b210-4a242a8b4cc2",
   "metadata": {},
   "outputs": [],
   "source": [
    "anthropic = Website(\"https://www.anthropic.com/\")\n",
    "anthropic.links\n",
    "anthropic.text\n",
    "#ibt = Website(\"https://www.ibt.unam.mx\")\n",
    "#ibt.links"
   ]
  },
  {
   "cell_type": "code",
   "execution_count": null,
   "id": "d3d583e2-dcc4-40cc-9b28-1e8dbf402924",
   "metadata": {},
   "outputs": [],
   "source": [
    "get_links(\"https://www.anthropic.com\")"
   ]
  },
  {
   "cell_type": "code",
   "execution_count": null,
   "id": "6fa95e97-51fd-4f57-a0ee-6047557463d0",
   "metadata": {},
   "outputs": [],
   "source": [
    "get_links(\"https://cursos.frogamesformacion.com\")"
   ]
  },
  {
   "cell_type": "markdown",
   "id": "0d74128e-dfb6-47ec-9549-288b621c838c",
   "metadata": {},
   "source": [
    "## Segundo paso: ¡crea el folleto!\n",
    "\n",
    "Reúne todos los detalles en otro mensaje para GPT4-o"
   ]
  },
  {
   "cell_type": "code",
   "execution_count": null,
   "id": "85a5b6e2-e7ef-44a9-bc7f-59ede71037b5",
   "metadata": {},
   "outputs": [],
   "source": [
    "def get_all_details(url):\n",
    "    result = \"Landing page:\\n\"\n",
    "    result += Website(url).get_contents()\n",
    "    links = get_links(url)\n",
    "    print(\"Links encontrados:\", links)\n",
    "    for link in links[\"links\"]:\n",
    "        result += f\"\\n\\n{link['type']}\\n\"\n",
    "        result += Website(link[\"url\"]).get_contents()\n",
    "    return result"
   ]
  },
  {
   "cell_type": "code",
   "execution_count": null,
   "id": "5099bd14-076d-4745-baf3-dac08d8e5ab2",
   "metadata": {},
   "outputs": [],
   "source": [
    "print(get_all_details(\"https://www.ibt.unam.mx\"))"
   ]
  },
  {
   "cell_type": "code",
   "execution_count": null,
   "id": "9b863a55-f86c-4e3f-8a79-94e24c1a8cf2",
   "metadata": {},
   "outputs": [],
   "source": [
    "system_prompt = \"Eres un asistente que analiza el contenido de varias páginas relevantes del sitio web de una empresa\\\n",
    "y crea un folleto breve sobre la empresa para posibles clientes, inversores y nuevos empleados. Responde en formato Markdown.\\\n",
    "Incluye detalles sobre la cultura de la empresa, los clientes, las carreras/empleos y los cursos/packs para futuros empleos si tienes la información.\"\n",
    "\n",
    "# O descomenta las líneas a continuación para obtener un folleto más humorístico: esto demuestra lo fácil que es incorporar el \"tono\":\n",
    "\n",
    "# system_prompt = \"Eres un asistente que analiza el contenido de varias páginas relevantes del sitio web de una empresa \\\n",
    "# y crea un folleto breve, divertido y gracioso sobre la empresa para posibles clientes, inversores y nuevos empleados. Responde en formato Markdown.\\\n",
    "#Incluye detalles sobre la cultura de la empresa, los clientes y los cursos/packs para futuros empleos si tienes la información.\"\n"
   ]
  },
  {
   "cell_type": "code",
   "execution_count": null,
   "id": "6ab83d92-d36b-4ce0-8bcc-5bb4c2f8ff23",
   "metadata": {},
   "outputs": [],
   "source": [
    "def get_brochure_user_prompt(company_name, url):\n",
    "    user_prompt = f\"Estás mirando una empresa llamada: {company_name}\\n\"\n",
    "    user_prompt += f\"Aquí se encuentra el contenido de su página de inicio y otras páginas relevantes; usa esta información para crear un breve folleto de la empresa en Markdown.\\n\"\n",
    "    user_prompt += get_all_details(url)\n",
    "    user_prompt = user_prompt[:20_000] # Truncar si tiene más de 20.000 caracteres\n",
    "    return user_prompt"
   ]
  },
  {
   "cell_type": "code",
   "execution_count": null,
   "id": "cd909e0b-1312-4ce2-a553-821e795d7572",
   "metadata": {},
   "outputs": [],
   "source": [
    "get_brochure_user_prompt(\"Instituto de Biotecnologia\", \"https://www.ibt.unam.mx\")"
   ]
  },
  {
   "cell_type": "code",
   "execution_count": null,
   "id": "e44de579-4a1a-4e6a-a510-20ea3e4b8d46",
   "metadata": {},
   "outputs": [],
   "source": [
    "def create_brochure(company_name, url):\n",
    "    response = openai.chat.completions.create(\n",
    "        model=MODEL,\n",
    "        messages=[\n",
    "            {\"role\": \"system\", \"content\": system_prompt},\n",
    "            {\"role\": \"user\", \"content\": get_brochure_user_prompt(company_name, url)}\n",
    "          ],\n",
    "    )\n",
    "    result = response.choices[0].message.content\n",
    "    display(Markdown(result))"
   ]
  },
  {
   "cell_type": "code",
   "execution_count": null,
   "id": "e093444a-9407-42ae-924a-145730591a39",
   "metadata": {},
   "outputs": [],
   "source": [
    "create_brochure(\"Instituto de Biotecnologia\", \"https://www.ibt.unam.mx\")"
   ]
  },
  {
   "cell_type": "code",
   "execution_count": null,
   "id": "e15ba8cb-f0ea-4821-9c32-f2d3fd8fca69",
   "metadata": {},
   "outputs": [],
   "source": [
    "create_brochure(\"Frogames Formación\", \"https://cursos.frogamesformacion.com\")"
   ]
  },
  {
   "cell_type": "markdown",
   "id": "61eaaab7-0b47-4b29-82d4-75d474ad8d18",
   "metadata": {},
   "source": [
    "## Por último, una pequeña mejora\n",
    "\n",
    "Con un pequeño ajuste, podemos cambiar esto para que los resultados se transmitan desde OpenAI,\n",
    "con la animación de máquina de escribir habitual\n"
   ]
  },
  {
   "cell_type": "code",
   "execution_count": null,
   "id": "51db0e49-f261-4137-aabe-92dd601f7725",
   "metadata": {},
   "outputs": [],
   "source": [
    "def stream_brochure(company_name, url):\n",
    "    stream = openai.chat.completions.create(\n",
    "        model=MODEL,\n",
    "        messages=[\n",
    "            {\"role\": \"system\", \"content\": system_prompt},\n",
    "            {\"role\": \"user\", \"content\": get_brochure_user_prompt(company_name, url)}\n",
    "          ],\n",
    "        stream=True\n",
    "    )\n",
    "    \n",
    "    response = \"\"\n",
    "    display_handle = display(Markdown(\"\"), display_id=True)\n",
    "    for chunk in stream:\n",
    "        response += chunk.choices[0].delta.content or ''\n",
    "        response = response.replace(\"```\",\"\").replace(\"markdown\", \"\")\n",
    "        update_display(Markdown(response), display_id=display_handle.display_id)"
   ]
  },
  {
   "cell_type": "code",
   "execution_count": 50,
   "id": "24834767-60e6-4a93-a3c0-e0b4c38e718a",
   "metadata": {},
   "outputs": [],
   "source": [
    "def stream_brochure(company_name, url):\n",
    "    stream = openai.chat.completions.create(\n",
    "        model=MODEL,\n",
    "        messages=[\n",
    "            {\"role\": \"system\", \"content\": system_prompt},\n",
    "            {\"role\": \"user\", \"content\": get_brochure_user_prompt(company_name, url)}\n",
    "          ],\n",
    "        stream=True\n",
    "    )\n",
    "    #for chunk in stream:\n",
    "    #       print(   chunk.choices[0].delta.content or '')\n",
    "    response = \"\"\n",
    "    display_handle = display(Markdown(\"\"), display_id=True)\n",
    "    for chunk in stream:\n",
    "        response += chunk.choices[0].delta.content or ''\n",
    "        response = response.replace(\"```\",\"\").replace(\"markdown\", \"\")\n",
    "        \n",
    "        update_display(Markdown(response), display_id=display_handle.display_id)"
   ]
  },
  {
   "cell_type": "code",
   "execution_count": 51,
   "id": "56bf0ae3-ee9d-4a72-9cd6-edcac67ceb6d",
   "metadata": {},
   "outputs": [
    {
     "name": "stdout",
     "output_type": "stream",
     "text": [
      "Links encontrados: {'links': [{'type': 'Pagina Sobre nosotros', 'url': 'https://ibt.unam.mx/sitio/sobre-nosotros-y-nuestra-organizacion/sobre-nosotros-y-nuestra-organizacion-23'}, {'type': 'Pagina de carreras/empleos', 'url': 'https://ibt.unam.mx/estudia-con-nosotros/estudia-con-nosotros-21'}, {'type': 'Pagina de Cursos/Packs', 'url': 'https://ibt.unam.mx/sitio/facilidades-y-servicios/facilidades-y-servicios-22'}, {'type': 'Informacion institucional', 'url': 'https://ibt.unam.mx/informacion-institucional/informacion-institucional-24'}, {'type': 'Página de publicaciones', 'url': 'https://ibt.unam.mx/publicaciones/'}, {'type': 'Página de investigaciones', 'url': 'https://ibt.unam.mx/sitio/investigacion/reas-de-conocimiento-20'}]}\n"
     ]
    },
    {
     "data": {
      "text/markdown": [
       "\n",
       "# Folleto del Instituto de Biotecnología - UNAM\n",
       "\n",
       "## Sobre Nosotros\n",
       "\n",
       "El **Instituto de Biotecnología (IBt)** de la Universidad Nacional Autónoma de México (UNAM) se destaca como una institución líder en biotecnología, tanto a nivel nacional como internacional. Con más de 40 años de historia, nuestro objetivo principal es desarrollar la biotecnología moderna mediante investigaciones de excelencia y la formación de recursos humanos altamente especializados.\n",
       "\n",
       "### Misión\n",
       "Desarrollar la biotecnología a partir de investigaciones de frontera para contribuir a la ciencia, tecnología y sociedad.\n",
       "\n",
       "### Visión\n",
       "Consolidar el liderazgo del IBt en el ámbito científico y tecnológico.\n",
       "\n",
       "### Objetivos\n",
       "- Realizar investigación original en diversas áreas biotecnológicas.\n",
       "- Colaborar con el sector industrial para el desarrollo de soluciones tecnológicas.\n",
       "- Educar y formar recursos humanos a través de proyectos de investigación multidisciplinarios.\n",
       "\n",
       "## Investigación y Áreas de Especialización\n",
       "\n",
       "El IBt abarca varias disciplinas, entre las que se incluyen:\n",
       "\n",
       "- **Cristalografía**\n",
       "- **Bioinformática Genómica**\n",
       "- **Bioingeniería**\n",
       "- **Biología Molecular de Eucariotes**\n",
       "- **Fisiología**\n",
       "- **Microbiología**\n",
       "- **Toxicología**\n",
       "- **Virología**\n",
       "\n",
       "También contamos con departamentos especializados, tales como:\n",
       "\n",
       "- Biología Molecular de Plantas\n",
       "- Genética del Desarrollo y Fisiología Molecular\n",
       "- Medicina Molecular y Bioprocesos\n",
       "\n",
       "## Nuestros Clientes\n",
       "\n",
       "Colaboramos con instituciones nacionales e internacionales, así como con el sector industrial, abordando retos en salud, agropecuarios, industriales, energéticos y medioambientales.\n",
       "\n",
       "## Oportunidades de Carrera\n",
       "\n",
       "El IBt ofrece un entorno dinámico para su personal. Los interesados en unirse a nuestro equipo deben estar preparados para contribuir a nuestra misión mediante investigaciones de vanguardia. Aquí, fomentamos el desarrollo profesional a través de:\n",
       "\n",
       "- Planes de desarrollo individual para investigadores.\n",
       "- Oportunidades para jóvenes talentos en áreas prioritarias.\n",
       "\n",
       "## Formación Académica\n",
       "\n",
       "### Programas de Estudio\n",
       "Ofrecemos una amplia variedad de programas de educación superior en biotecnología, que incluyen:\n",
       "\n",
       "- **Doctorados**\n",
       "- **Maestrías**\n",
       "- **Licenciaturas**\n",
       "- **Cursos especializados**\n",
       "\n",
       "### Facilidades y Servicios\n",
       "El IBt cuenta con laboratorios equipados con tecnología de punta, bibliotecas especializadas y recursos para el aprendizaje práctico en diversas áreas de investigación.\n",
       "\n",
       "## Compromiso Social\n",
       "\n",
       "Nos comprometemos a contribuir a la sociedad mediante la divulgación del conocimiento, la promoción de la investigación fundamental y la aplicación de tecnologías biológicas que ayuden a resolver problemas sociales y medioambientales.\n",
       "\n",
       "## Contacto\n",
       "\n",
       "Para más información, visita nuestro sitio web o contáctanos directamente:\n",
       "\n",
       "- **Email**: [informes@ibt.unam.mx](mailto:informes@ibt.unam.mx)\n",
       "- **Sitio web**: [Instituto de Biotecnología - UNAM](https://ibt.unam.mx)\n",
       "\n",
       "### ¡Únete a nosotros!\n",
       "Descubre el potencial de la biotecnología y cómo puedes ser parte de un equipo que está cambiando el futuro.\n",
       "\n"
      ],
      "text/plain": [
       "<IPython.core.display.Markdown object>"
      ]
     },
     "metadata": {},
     "output_type": "display_data"
    }
   ],
   "source": [
    "stream_brochure(\"Instituto de Biotecnologia\", \"https://www.ibt.unam.mx\")"
   ]
  },
  {
   "cell_type": "code",
   "execution_count": null,
   "id": "fdb3f8d8-a3eb-41c8-b1aa-9f60686a653b",
   "metadata": {},
   "outputs": [],
   "source": [
    "stream_brochure(\"HuggingFace\", \"https://huggingface.co\")"
   ]
  },
  {
   "cell_type": "code",
   "execution_count": null,
   "id": "104ad14c-be63-4e8c-985c-bc0cd0742508",
   "metadata": {},
   "outputs": [],
   "source": [
    "stream_brochure(\"Frogames Formación\", \"https://cursos.frogamesformacion.com\")"
   ]
  },
  {
   "cell_type": "markdown",
   "id": "a27bf9e0-665f-4645-b66b-9725e2a959b5",
   "metadata": {},
   "source": [
    "## Aplicaciones empresariales\n",
    "\n",
    "En este ejercicio, ampliamos el código del día 1 para realizar múltiples llamadas a LLM y generar un documento.\n",
    "\n",
    "En términos de técnicas, este es quizás el primer ejemplo de patrones de diseño de Agentic AI, ya que combinamos múltiples llamadas a LLM. Esto se abordará más en la semana 2 y luego volveremos a Agentic AI de manera importante en la semana 8, cuando construyamos una solución Agent completamente autónoma.\n",
    "\n",
    "En términos de aplicaciones empresariales, generar contenido de esta manera es uno de los casos de uso más comunes. Al igual que con el resumen, esto se puede aplicar a cualquier vertical empresarial. Escriba contenido de marketing, genere un tutorial de producto a partir de una especificación, cree contenido de correo electrónico personalizado y mucho más. Explore cómo puede aplicar la generación de contenido a su negocio e intente crear un prototipo de prueba de concepto."
   ]
  },
  {
   "cell_type": "code",
   "execution_count": null,
   "id": "22e878f1-08fe-4465-b50c-869352174eae",
   "metadata": {},
   "outputs": [],
   "source": []
  }
 ],
 "metadata": {
  "kernelspec": {
   "display_name": "Python 3 (ipykernel)",
   "language": "python",
   "name": "python3"
  },
  "language_info": {
   "codemirror_mode": {
    "name": "ipython",
    "version": 3
   },
   "file_extension": ".py",
   "mimetype": "text/x-python",
   "name": "python",
   "nbconvert_exporter": "python",
   "pygments_lexer": "ipython3",
   "version": "3.11.12"
  }
 },
 "nbformat": 4,
 "nbformat_minor": 5
}
