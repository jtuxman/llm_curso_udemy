{
 "cells": [
  {
   "cell_type": "markdown",
   "id": "fe12c203-e6a6-452c-a655-afb8a03a4ff5",
   "metadata": {},
   "source": [
    "# Ejercicio final de la semana 1\n",
    "\n",
    "Para demostrar que estás familiarizado con la API de OpenAI y también con Ollama, crea una herramienta que responda a una pregunta técnica\n",
    "y la explique. ¡Esta es una herramienta que podrás usar durante el curso!"
   ]
  },
  {
   "cell_type": "code",
   "execution_count": null,
   "id": "c1070317-3ed9-4659-abe3-828943230e03",
   "metadata": {},
   "outputs": [],
   "source": [
    "# imports\n",
    "# Si esto falla, verifica que esté ejecutándose desde un entorno \"activado\" con (llms) en el símbolo del sistema\n",
    "\n",
    "import os\n",
    "import requests\n",
    "import json\n",
    "from typing import List\n",
    "from dotenv import load_dotenv\n",
    "from bs4 import BeautifulSoup\n",
    "from IPython.display import Markdown, display, update_display\n",
    "from openai import OpenAI\n"
   ]
  },
  {
   "cell_type": "code",
   "execution_count": null,
   "id": "4a456906-915a-4bfd-bb9d-57e505c5093f",
   "metadata": {},
   "outputs": [],
   "source": [
    "# constantes\n",
    "\n",
    "MODEL_GPT = 'gpt-4o-mini'\n",
    "MODEL_LLAMA = 'llama3.2'\n",
    "messagesG=[]"
   ]
  },
  {
   "cell_type": "code",
   "execution_count": null,
   "id": "a8d7923c-5f28-4c30-8556-342d7c8497c1",
   "metadata": {},
   "outputs": [],
   "source": [
    "# Configura el entorno\n",
    "# Inicialización\n",
    "\n",
    "load_dotenv()\n",
    "api_key = os.getenv('OPENAI_API_KEY')\n",
    "\n",
    "if api_key and api_key[:8]=='sk-proj-':\n",
    "    print(\"La clave de API parece buena\")\n",
    "else:\n",
    "    print(\"¿Puede haber un problema con tu clave API? ¡Visita el cuaderno de resolución de problemas!\")\n",
    "openai = OpenAI()\n"
   ]
  },
  {
   "cell_type": "code",
   "execution_count": null,
   "id": "0064b893-de32-48e7-89af-305bd943ed59",
   "metadata": {},
   "outputs": [],
   "source": [
    "def add_message(role, content, reset=False):\n",
    "    \"\"\"\n",
    "    Agrega un mensaje al historial. Puede reiniciar la conversación si se indica.\n",
    "\n",
    "    Args:\n",
    "        role (str): 'system', 'user' o 'assistant'\n",
    "        content (str): texto del mensaje\n",
    "        reset (bool): si True, reinicia el historial antes de agregar\n",
    "    \"\"\"\n",
    "    global messagesG\n",
    "    if reset:\n",
    "        messagesG = []\n",
    "    if role not in ['system', 'user', 'assistant']:\n",
    "        raise ValueError(\"El rol debe ser 'system', 'user' o 'assistant'\")\n",
    "    messagesG.append({\"role\": role, \"content\": content})"
   ]
  },
  {
   "cell_type": "code",
   "execution_count": null,
   "id": "8f7c8ea8-4082-4ad0-8751-3301adcf6538",
   "metadata": {},
   "outputs": [],
   "source": [
    "def stream_output(user_prompt, system_prompt):\n",
    "    stream = openai.chat.completions.create(\n",
    "        model=MODEL,\n",
    "        messages=messagesG,\n",
    "        stream=True\n",
    "    )\n",
    "    \n",
    "    response = \"\"\n",
    "    display_handle = display(Markdown(\"\"), display_id=True)\n",
    "    for chunk in stream:\n",
    "        response += chunk.choices[0].delta.content or ''\n",
    "        response = response.replace(\"```\",\"\").replace(\"markdown\", \"\")\n",
    "        update_display(Markdown(response), display_id=display_handle.display_id)"
   ]
  },
  {
   "cell_type": "code",
   "execution_count": null,
   "id": "60ce7000-a4a5-4cce-a261-e75ef45063b4",
   "metadata": {},
   "outputs": [],
   "source": [
    "system_prompt=\"\"\"\n",
    "            Asume que eres un tutor experto en lenguaje Python, da explicaciones \n",
    "            detalladas y con ejemplos para que el alumno comprenta \n",
    "              \"\"\"\n"
   ]
  },
  {
   "cell_type": "code",
   "execution_count": null,
   "id": "a4c9a43f-b8e8-4fe8-9409-f955f915d1fc",
   "metadata": {},
   "outputs": [],
   "source": [
    "question = \"\"\"\n",
    "Explica qué hace este código y por qué:\n",
    "yield from {book.get(\"author\") for book in books if book.get(\"author\")}\n",
    "\"\"\"\n",
    "add_message(\"system\", system_prompt, reset=True)\n",
    "add_message(\"user\", question)\n",
    "stream_output(user_prompt,system_prompt)"
   ]
  }
 ],
 "metadata": {
  "kernelspec": {
   "display_name": "Python 3 (ipykernel)",
   "language": "python",
   "name": "python3"
  },
  "language_info": {
   "codemirror_mode": {
    "name": "ipython",
    "version": 3
   },
   "file_extension": ".py",
   "mimetype": "text/x-python",
   "name": "python",
   "nbconvert_exporter": "python",
   "pygments_lexer": "ipython3",
   "version": "3.11.12"
  }
 },
 "nbformat": 4,
 "nbformat_minor": 5
}
