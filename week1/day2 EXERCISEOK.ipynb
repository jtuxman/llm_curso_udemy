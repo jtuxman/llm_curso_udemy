{
 "cells": [
  {
   "cell_type": "markdown",
   "id": "d15d8294-3328-4e07-ad16-8a03e9bbfdb9",
   "metadata": {},
   "source": [
    "# TAREA DE EJERCICIO\n",
    "\n",
    "Actualiza el proyecto del día 1 para resumir una página web y utilizar un modelo de código abierto que se ejecute localmente a través de Ollama en lugar de OpenAI\n",
    "\n",
    "Podrás utilizar esta técnica para todos los proyectos posteriores si prefiere no utilizar API de pago (closed source).\n",
    "\n",
    "**Beneficios:**\n",
    "1. Sin cargos por API: código abierto\n",
    "2. Los datos no salen de su ordenador\n",
    "\n",
    "**Desventajas:**\n",
    "1. Tiene mucha menos potencia (parámetros) que el modelo Frontier\n",
    "\n",
    "## Resumen de la instalación de Ollama\n",
    "\n",
    "¡Simplemente visita [ollama.com](https://ollama.com) e instálalo!\n",
    "\n",
    "Una vez que hayas terminado, el servidor ollama ya debería estar ejecutándose localmente.\n",
    "Si entras en:\n",
    "[http://localhost:11434/](http://localhost:11434/)\n",
    "\n",
    "Debería ver el mensaje `Ollama se está ejecutando`.\n",
    "\n",
    "De lo contrario, abre una nueva Terminal (Mac) o Powershell (Windows) e introduce `ollama serve`.\n",
    "Luego, intenta entrar em [http://localhost:11434/](http://localhost:11434/) nuevamente."
   ]
  },
  {
   "cell_type": "code",
   "execution_count": 34,
   "id": "4e2a9393-7767-488e-a8bf-27c12dca35bd",
   "metadata": {},
   "outputs": [],
   "source": [
    "# imports\n",
    "\n",
    "import requests\n",
    "from bs4 import BeautifulSoup\n",
    "from IPython.display import Markdown, display"
   ]
  },
  {
   "cell_type": "code",
   "execution_count": 35,
   "id": "29ddd15d-a3c5-4f4e-a678-873f56162724",
   "metadata": {},
   "outputs": [],
   "source": [
    "# Constantes\n",
    "\n",
    "OLLAMA_API = \"http://132.248.32.20:8080/api/chat\"\n",
    "HEADERS = {\"Content-Type\": \"application/json\"}\n",
    "MODEL = \"llama3.2\""
   ]
  },
  {
   "cell_type": "code",
   "execution_count": 36,
   "id": "dac0a679-599c-441f-9bf2-ddc73d35b940",
   "metadata": {},
   "outputs": [
    {
     "name": "stdout",
     "output_type": "stream",
     "text": [
      "[{'role': 'user', 'content': 'Describe algunas de las aplicaciones comerciales de la IA generativa.'}]\n"
     ]
    }
   ],
   "source": [
    "# Crea una lista de mensajes utilizando el mismo formato que usamos para OpenAI\n",
    "\n",
    "messages = [\n",
    "    {\"role\": \"user\", \"content\": \"Describe algunas de las aplicaciones comerciales de la IA generativa.\"}\n",
    "]\n",
    "print (messages)"
   ]
  },
  {
   "cell_type": "code",
   "execution_count": 37,
   "id": "7bb9c624-14f0-4945-a719-8ddb64f66f47",
   "metadata": {},
   "outputs": [],
   "source": [
    "payload = {\n",
    "        \"model\": MODEL,\n",
    "        \"messages\": messages,\n",
    "        \"stream\": False\n",
    "    }"
   ]
  },
  {
   "cell_type": "code",
   "execution_count": null,
   "id": "42b9f644-522d-4e05-a691-56e7658c0ea9",
   "metadata": {},
   "outputs": [],
   "source": [
    "response = requests.post(OLLAMA_API, json=payload, headers=HEADERS)\n",
    "print(response.json()['message']['content'])"
   ]
  },
  {
   "cell_type": "markdown",
   "id": "6a021f13-d6a1-4b96-8e18-4eae49d876fe",
   "metadata": {},
   "source": [
    "# Presentación del paquete ollama\n",
    "\n",
    "Ahora haremos lo mismo, pero utilizando el elegante paquete de Python ollama en lugar de una llamada HTTP directa.\n",
    "\n",
    "En esencia, se realiza la misma llamada que se indicó anteriormente al servidor ollama que se ejecuta en localhost:11434"
   ]
  },
  {
   "cell_type": "code",
   "execution_count": null,
   "id": "7745b9c4-57dc-4867-9180-61fa5db55eb8",
   "metadata": {},
   "outputs": [],
   "source": [
    "import ollama\n",
    "import os\n",
    "\n",
    "response = ollama.chat(model=MODEL, messages=messages)\n",
    "print(response['message']['content'])"
   ]
  },
  {
   "cell_type": "code",
   "execution_count": null,
   "id": "9a611b05-b5b0-4c83-b82d-b3a39ffb917d",
   "metadata": {},
   "outputs": [],
   "source": []
  },
  {
   "cell_type": "markdown",
   "id": "1622d9bb-5c68-4d4e-9ca4-b492c751f898",
   "metadata": {},
   "source": [
    "# AHORA el ejercicio para ti\n",
    "\n",
    "Toma el código del día 1 e incorpóralo aquí para crear un resumidor de sitios web que use Llama 3.2 ejecutándose localmente en lugar de OpenAI"
   ]
  },
  {
   "cell_type": "code",
   "execution_count": 40,
   "id": "4a3d6881-35af-469e-a8ff-a8b62b721d95",
   "metadata": {},
   "outputs": [],
   "source": [
    "\n",
    "import requests\n",
    "from bs4 import BeautifulSoup\n",
    "from IPython.display import Markdown, display\n",
    "\n"
   ]
  },
  {
   "cell_type": "code",
   "execution_count": 42,
   "id": "9dab319c-4794-4e5b-9a1c-469fbbaaa60f",
   "metadata": {},
   "outputs": [],
   "source": [
    "# Una clase para representar una página web\n",
    "# Si no estás familiarizado con las clases, consulta el cuaderno \"Python intermedio\"\n",
    "\n",
    "class Website:\n",
    "    \"\"\"\n",
    "    Una clase de utilidad para representar un sitio web que hemos scrappeado\n",
    "    \"\"\"\n",
    "\n",
    "    def __init__(self, url):\n",
    "        \"\"\"\n",
    "        Crea este objeto de sitio web a partir de la URL indicada utilizando la biblioteca BeautifulSoup\n",
    "        \"\"\"\n",
    "        self.url = url\n",
    "        response = requests.get(url)\n",
    "        soup = BeautifulSoup(response.content, 'html.parser')\n",
    "        self.title = soup.title.string if soup.title else \"No tiene título\"\n",
    "        for irrelevant in soup.body([\"script\", \"style\", \"img\", \"input\"]):\n",
    "            irrelevant.decompose()\n",
    "        self.text = soup.body.get_text(separator=\"\\n\", strip=True)"
   ]
  },
  {
   "cell_type": "code",
   "execution_count": null,
   "id": "4440276e-4b45-4a78-83ac-a1a689a2aff5",
   "metadata": {},
   "outputs": [],
   "source": [
    "pagina = Website(\"https://cursos.frogamesformacion.com\")\n",
    "pagina = Website(\"https://ibt.unam.mx\")\n",
    "print(pagina.title)\n",
    "print(pagina.text)"
   ]
  },
  {
   "cell_type": "code",
   "execution_count": 47,
   "id": "6c879811-bbbb-475e-92bc-77447afbbfdb",
   "metadata": {},
   "outputs": [],
   "source": [
    "OLLAMA_API = \"http://132.248.32.20:8080/api/chat\"\n",
    "HEADERS = {\"Content-Type\": \"application/json\"}\n",
    "MODEL = \"llama3.2\""
   ]
  },
  {
   "cell_type": "code",
   "execution_count": 48,
   "id": "30e2beb1-5e51-48cd-aac2-0fc79ed08dfa",
   "metadata": {},
   "outputs": [],
   "source": [
    "def user_prompt_for(website):\n",
    "    user_prompt = f\"Estás viendo un sitio web titulado {website.title}\"\n",
    "    user_prompt += \"\\nEl contenido de este sitio web es el siguiente; \\\n",
    "    proporciona un breve resumen de este sitio web en formato Markdown. \\\n",
    "    Si incluye noticias, productos o anuncios, resúmelos también.\\n\\n\"\n",
    "    user_prompt += website.text\n",
    "    return user_prompt"
   ]
  },
  {
   "cell_type": "code",
   "execution_count": 56,
   "id": "aa683821-f575-43fb-8340-d8d0fb4b46a0",
   "metadata": {},
   "outputs": [],
   "source": [
    "def messages_for(website,sys_prompt):\n",
    "    return [\n",
    "    {\"role\": \"user\", \"content\": sys_prompt+ user_prompt_for(website)}\n",
    "]"
   ]
  },
  {
   "cell_type": "code",
   "execution_count": null,
   "id": "5422c167-1e25-49fa-b36a-6cf91d4b3222",
   "metadata": {},
   "outputs": [],
   "source": [
    "sysPrompt= \"Eres un asistente que analiza el contenido de un sitio web \\\n",
    "y proporciona un breve resumen, ignorando el texto que podría estar relacionado con la navegación. \\\n",
    "Responder en Markdown. Esto del siguiente texto :\"\n",
    "\n",
    "#print(user_prompt_for(pagina))\n",
    "messages_for(pagina,sysPrompt)"
   ]
  },
  {
   "cell_type": "code",
   "execution_count": 67,
   "id": "e3e600c0-4258-45d9-975c-acd2f488e435",
   "metadata": {},
   "outputs": [],
   "source": [
    "def summarize(url):\n",
    "    sysPrompt=\"Eres un asistente que analiza el contenido de un sitio web \\\n",
    "y proporciona un breve resumen, ignorando el texto que podría estar relacionado con la navegación. \\\n",
    "Responder en Markdown. Esto del siguiente texto :\"\n",
    "    pagina = Website(url)\n",
    "    payload = {\n",
    "        \"model\": MODEL,\n",
    "        \"messages\": messages_for(pagina,sysPrompt),\n",
    "        \"stream\": False\n",
    "    }\n",
    "    response = requests.post(OLLAMA_API, json=payload, headers=HEADERS)\n",
    "    return response.json()['message']['content']"
   ]
  },
  {
   "cell_type": "code",
   "execution_count": 68,
   "id": "e1aa5e17-5fc2-4055-8014-708ad5926c88",
   "metadata": {},
   "outputs": [],
   "source": [
    "def display_summary(url):\n",
    "    summary = summarize(url)\n",
    "    display(Markdown(summary))"
   ]
  },
  {
   "cell_type": "code",
   "execution_count": 73,
   "id": "9fd590f6-d489-4c2b-9409-5292a5f5a052",
   "metadata": {},
   "outputs": [
    {
     "data": {
      "text/markdown": [
       "**Resumen del sitio web La Jornada**\n",
       "\n",
       "La Jornada es un sitio web que ofrece noticias, análisis y contenido editorial sobre temas políticos, sociales y económicos. El sitio web cumple 40 años de existencia y se caracteriza por su compromiso con la resistencia y solidaridad.\n",
       "\n",
       "**Noticias destacadas:**\n",
       "\n",
       "* Detención de Hugo Buentello, ex subdirector de Operaciones de Segalmex\n",
       "* Análisis sobre los costos injustificables de la banca comercial\n",
       "* Exhortación de Claudia Sheinbaum Pardo a reducir las tasas de interés para alinear con el Banco de México\n",
       "\n",
       "**Anuncios y publicidad:**\n",
       "\n",
       "* Anuncios de diferentes empresas y organizaciones\n",
       "* Publicidad en secciones como \"La Jornada Impresa\", \"Editorial\" y \"Opinión\"\n",
       "* Promociones y franchisias en la sección \"Franquicias\"\n",
       "\n",
       "**Otras secciones del sitio web:**\n",
       "\n",
       "* \"Suplementos\" con contenido adicional sobre temas específicos\n",
       "* \"Videos\" con material audiovisual relacionado con el contenido del sitio\n",
       "* \"Galerías\" con imágenes y fotos relacionadas con los artículos del sitio\n",
       "* Sección de \"Síguenos en nuestras redes\" para seguir al sitio web en diferentes redes sociales\n",
       "\n",
       "**Información general sobre el sitio web:**\n",
       "\n",
       "* La Jornada es propiedad de DEMOS, Desarrollo de Medios, S.A. de C.V.\n",
       "* El sitio web tiene derechos de autor y se rige por un código de ética."
      ],
      "text/plain": [
       "<IPython.core.display.Markdown object>"
      ]
     },
     "metadata": {},
     "output_type": "display_data"
    }
   ],
   "source": [
    "display_summary(\"https://www.jornada.com.mx\")"
   ]
  },
  {
   "cell_type": "code",
   "execution_count": null,
   "id": "07e5cb19-1785-4f65-b6bb-a1f44124b3f1",
   "metadata": {},
   "outputs": [],
   "source": []
  }
 ],
 "metadata": {
  "kernelspec": {
   "display_name": "Python 3 (ipykernel)",
   "language": "python",
   "name": "python3"
  },
  "language_info": {
   "codemirror_mode": {
    "name": "ipython",
    "version": 3
   },
   "file_extension": ".py",
   "mimetype": "text/x-python",
   "name": "python",
   "nbconvert_exporter": "python",
   "pygments_lexer": "ipython3",
   "version": "3.11.12"
  }
 },
 "nbformat": 4,
 "nbformat_minor": 5
}
