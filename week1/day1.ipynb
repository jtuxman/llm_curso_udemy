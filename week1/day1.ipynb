{
 "cells": [
  {
   "cell_type": "markdown",
   "id": "d15d8294-3328-4e07-ad16-8a03e9bbfdb9",
   "metadata": {},
   "source": [
    "# Gratificación instantánea\n",
    "\n",
    "## ¡Tu primer proyecto de LLM de Frontier!\n",
    "\n",
    "Construyamos una solución LLM útil en cuestión de minutos.\n",
    "\n",
    "Al finalizar este curso, habrás creado una solución de IA autónoma de Agentic con 7 agentes que colaboran para resolver un problema comercial. ¡Todo a su debido tiempo! Comenzaremos con algo más pequeño...\n",
    "\n",
    "Nuestro objetivo es codificar un nuevo tipo de navegador web. Dale una URL y responderá con un resumen. ¡El Reader's Digest de Internet!\n",
    "\n",
    "Antes de comenzar, deberías haber completado la configuración para [PC](../SETUP-PC.md) o [Mac](../SETUP-mac.md) y, con suerte, habrás iniciado este laboratorio de Jupyter desde el directorio raíz del proyecto, con tu entorno activado.\n",
    "\n",
    "## Si eres nuevo en Jupyter Lab\n",
    "\n",
    "¡Bienvenido al maravilloso mundo de la experimentación en ciencia de datos! Una vez que hayas usado Jupyter Lab, te preguntarás cómo pudiste vivir sin él. Simplemente haga clic en cada \"celda\" que contenga código, como la celda inmediatamente debajo de este texto, y presione Shift+Return para ejecutar esa celda. Como desee, puede agregar una celda con el botón + en la barra de herramientas e imprimir valores de variables o probar variaciones.\n",
    "\n",
    "He escrito un cuaderno llamado [Guía para Jupyter](Guide%20to%20Jupyter.ipynb) para ayudarlo a familiarizarse más con Jupyter Labs, incluida la adición de comentarios de Markdown, el uso de `!` para ejecutar comandos de shell y `tqdm` para mostrar el progreso.\n",
    "\n",
    "Si prefiere trabajar en IDE como VSCode o Pycharm, ambos funcionan muy bien con estos cuadernos de laboratorio también.\n",
    "\n",
    "## Si desea repasar su Python\n",
    "\n",
    "He agregado un cuaderno llamado [Python intermedio](Intermediate%20Python.ipynb) para ayudarlo a ponerse al día. Pero no deberías probarlo si ya tienes una buena idea de lo que hace este código:\n",
    "`yield from {book.get(\"author\") for book in books if book.get(\"author\")}`\n",
    "\n",
    "## Estoy aquí para ayudarte\n",
    "\n",
    "Si tienes algún problema, no dudes en ponerte en contacto conmigo.\n",
    "Estoy disponible a través de la plataforma,o en https://www.linkedin.com/in/juan-gabriel-gomila-salas/ si quieres conectarte (¡y me encanta conectarme!).\n",
    "\n",
    "## Más resolución de problemas\n",
    "\n",
    "Consulta el cuaderno de [solución de problemas](troubleshooting.ipynb) en esta carpeta para diagnosticar y solucionar problemas comunes.\n",
    "\n",
    "## ¡Si esto ya es pan comido!\n",
    "\n",
    "Si ya te sientes cómodo con el material de hoy, no te desanimes; puedes avanzar rápidamente en los primeros laboratorios; profundizaremos mucho más a medida que avancen las semanas.\n",
    "\n",
    "## Valor comercial de estos ejercicios\n",
    "\n",
    "Una última reflexión. Aunque he diseñado estos cuadernos para que sean educativos, también he intentado que sean divertidos. Haremos cosas divertidas, como que los estudiantes de LLM cuenten chistes y discutan entre ellos. Pero, fundamentalmente, mi objetivo es enseñar habilidades que se puedan aplicar en los negocios. Explicaré las implicaciones comerciales a medida que avancemos y vale la pena tener esto en cuenta: a medida que adquiera experiencia con modelos y técnicas, piense en formas en las que podría poner esto en práctica en el trabajo hoy. Comuníquese conmigo si desea hablar más sobre esto o si tiene ideas para compartir conmigo."
   ]
  },
  {
   "cell_type": "code",
   "execution_count": 19,
   "id": "4e2a9393-7767-488e-a8bf-27c12dca35bd",
   "metadata": {},
   "outputs": [
    {
     "name": "stdout",
     "output_type": "stream",
     "text": [
      "OK\n"
     ]
    }
   ],
   "source": [
    "# imports\n",
    "\n",
    "import os\n",
    "import requests\n",
    "from dotenv import load_dotenv\n",
    "from bs4 import BeautifulSoup\n",
    "from IPython.display import Markdown, display\n",
    "from openai import OpenAI\n",
    "print (\"OK\")\n",
    "\n",
    "# Si recibe un error al ejecutar esta celda, diríjase al cuaderno de solución de problemas (troubleshooting.ipynb)."
   ]
  },
  {
   "cell_type": "markdown",
   "id": "6900b2a8-6384-4316-8aaa-5e519fca4254",
   "metadata": {},
   "source": [
    "# Conexión a OpenAI\n",
    "\n",
    "La siguiente celda es donde cargamos las variables de entorno en su archivo `.env` y nos conectamos a OpenAI.\n",
    "\n",
    "## Solución de problemas si tiene problemas:\n",
    "\n",
    "Vaya al cuaderno [solución de problemas](troubleshooting.ipynb) en esta carpeta para obtener el código paso a paso para identificar la causa raíz y solucionarlo.\n",
    "\n",
    "Si realiza un cambio, intente reiniciar el \"Kernel\" (el proceso de Python que se encuentra detrás de este cuaderno) mediante el menú Kernel >> Reiniciar Kernel y borrar los resultados de todas las celdas. Luego, intente con este cuaderno nuevamente, comenzando desde arriba.\n",
    "\n",
    "O bien, ¡contácteme! Envíeme un mensaje a través del foro del curso y haremos que esto funcione.\n",
    "\n",
    "¿Tiene alguna inquietud sobre los costos de la API? Vea mis notas en el README: los costos deberían ser mínimos y puede controlarlos en cada punto. También puede usar Ollama como una alternativa gratuita, que analizamos durante el día 2."
   ]
  },
  {
   "cell_type": "code",
   "execution_count": 20,
   "id": "7b87cadb-d513-4303-baee-a37b6f938e4d",
   "metadata": {},
   "outputs": [
    {
     "name": "stdout",
     "output_type": "stream",
     "text": [
      "¡Se encontró la clave API y hasta ahora parece buena!\n"
     ]
    }
   ],
   "source": [
    "# Cargamos las variables del fichero .env\n",
    "\n",
    "load_dotenv()\n",
    "api_key = os.getenv('OPENAI_API_KEY')\n",
    "\n",
    "# Check the key\n",
    "\n",
    "if not api_key:\n",
    "    print(\"No se encontró ninguna clave API: diríjase al cuaderno de resolución de problemas en esta carpeta para identificarla y solucionarla.\")\n",
    "elif not api_key.startswith(\"sk-proj-\"):\n",
    "    print(\"Se encontró una clave API, pero no inicia sk-proj-; verifique que esté usando la clave correcta; consulte el cuaderno de resolución de problemas\")\n",
    "elif api_key.strip() != api_key:\n",
    "    print(\"Se encontró una clave API, pero parece que puede tener espacios o caracteres de tabulación al principio o al final; elimínelos; consulte el cuaderno de resolución de problemas\")\n",
    "else:\n",
    "    print(\"¡Se encontró la clave API y hasta ahora parece buena!\")\n"
   ]
  },
  {
   "cell_type": "code",
   "execution_count": 22,
   "id": "019974d9-f3ad-4a8a-b5f9-0a3719aea2d3",
   "metadata": {},
   "outputs": [
    {
     "name": "stdout",
     "output_type": "stream",
     "text": [
      "OK\n"
     ]
    }
   ],
   "source": [
    "openai = OpenAI()\n",
    "print (\"OK\")\n",
    "\n",
    "# Si esto no funciona, prueba con el menú Kernel >> Reiniciar Kernel y borrar las salidas de todas las celdas, luego ejecuta las celdas desde la parte superior de este cuaderno hacia abajo.\n",
    "# Si TODAVÍA no funciona (¡qué horror!), consulta el cuaderno de resolución de problemas o prueba la siguiente línea:\n",
    "# openai = OpenAI(api_key=\"your-key-here-starting-sk-proj-\")"
   ]
  },
  {
   "cell_type": "code",
   "execution_count": 23,
   "id": "c5e793b2-6775-426a-a139-4848291d0463",
   "metadata": {},
   "outputs": [],
   "source": [
    "# Una clase para representar una página web\n",
    "# Si no estás familiarizado con las clases, consulta el cuaderno \"Python intermedio\"\n",
    "\n",
    "class Website:\n",
    "    \"\"\"\n",
    "    Una clase de utilidad para representar un sitio web que hemos scrappeado\n",
    "    \"\"\"\n",
    "\n",
    "    def __init__(self, url):\n",
    "        \"\"\"\n",
    "        Crea este objeto de sitio web a partir de la URL indicada utilizando la biblioteca BeautifulSoup\n",
    "        \"\"\"\n",
    "        self.url = url\n",
    "        response = requests.get(url)\n",
    "        soup = BeautifulSoup(response.content, 'html.parser')\n",
    "        self.title = soup.title.string if soup.title else \"No tiene título\"\n",
    "        for irrelevant in soup.body([\"script\", \"style\", \"img\", \"input\"]):\n",
    "            irrelevant.decompose()\n",
    "        self.text = soup.body.get_text(separator=\"\\n\", strip=True)"
   ]
  },
  {
   "cell_type": "code",
   "execution_count": null,
   "id": "2ef960cf-6dc2-4cda-afb3-b38be12f4c97",
   "metadata": {},
   "outputs": [],
   "source": [
    "# Vamos a probar\n",
    "\n",
    "frog = Website(\"https://cursos.frogamesformacion.com\")\n",
    "frog = Website(\"https://ibt.unam.mx\")\n",
    "print(frog.title)\n",
    "print(frog.text)"
   ]
  },
  {
   "cell_type": "markdown",
   "id": "6a478a0c-2c53-48ff-869c-4d08199931e1",
   "metadata": {},
   "source": [
    "## Tipos de indicaciones/prompts\n",
    "\n",
    "Quizás ya sepas esto, pero si no, te resultará muy familiar.\n",
    "\n",
    "Los modelos como GPT4o han sido entrenados para recibir instrucciones de una manera particular.\n",
    "\n",
    "Esperan recibir:\n",
    "\n",
    "**Una indicación del sistema** que les indique qué tarea están realizando y qué tono deben usar\n",
    "\n",
    "**Una indicación del usuario**: el inicio de la conversación al que deben responder"
   ]
  },
  {
   "cell_type": "code",
   "execution_count": 26,
   "id": "abdb8417-c5dc-44bc-9bee-2e059d162699",
   "metadata": {},
   "outputs": [
    {
     "name": "stdout",
     "output_type": "stream",
     "text": [
      "Eres un asistente que analiza el contenido de un sitio web y proporciona un breve resumen, ignorando el texto que podría estar relacionado con la navegación. Responder en Markdown.\n"
     ]
    }
   ],
   "source": [
    "# Define nuestro mensaje de sistema: puedes experimentar con esto más tarde, cambiando la última oración a \"Responder en Markdown en español\".\n",
    "\n",
    "system_prompt = \"Eres un asistente que analiza el contenido de un sitio web \\\n",
    "y proporciona un breve resumen, ignorando el texto que podría estar relacionado con la navegación. \\\n",
    "Responder en Markdown.\"\n",
    "print(system_prompt)"
   ]
  },
  {
   "cell_type": "code",
   "execution_count": 27,
   "id": "f0275b1b-7cfe-4f9d-abfa-7650d378da0c",
   "metadata": {},
   "outputs": [],
   "source": [
    "# Una función que escribe un mensaje de usuario que solicita resúmenes de sitios web:\n",
    "\n",
    "def user_prompt_for(website):\n",
    "    user_prompt = f\"Estás viendo un sitio web titulado {website.title}\"\n",
    "    user_prompt += \"\\nEl contenido de este sitio web es el siguiente; \\\n",
    "    proporciona un breve resumen de este sitio web en formato Markdown. \\\n",
    "    Si incluye noticias, productos o anuncios, resúmelos también.\\n\\n\"\n",
    "    user_prompt += website.text\n",
    "    return user_prompt"
   ]
  },
  {
   "cell_type": "code",
   "execution_count": null,
   "id": "26448ec4-5c00-4204-baec-7df91d11ff2e",
   "metadata": {},
   "outputs": [],
   "source": [
    "print(user_prompt_for(frog))"
   ]
  },
  {
   "cell_type": "markdown",
   "id": "ea211b5f-28e1-4a86-8e52-c0b7677cadcc",
   "metadata": {},
   "source": [
    "## Mensajes\n",
    "\n",
    "La API de OpenAI espera recibir mensajes en una estructura particular.\n",
    "Muchas de las otras API comparten esta estructura:\n",
    "\n",
    "```\n",
    "[\n",
    "    {\"role\": \"system\", \"content\": \"el mensaje de sistema va aquí\"},\n",
    "    {\"role\": \"user\", \"content\": \"el mensaje de usuario va aquí\"}\n",
    "]"
   ]
  },
  {
   "cell_type": "code",
   "execution_count": 29,
   "id": "0134dfa4-8299-48b5-b444-f2a8c3403c88",
   "metadata": {},
   "outputs": [],
   "source": [
    "# Puedes ver cómo esta función crea exactamente el formato anterior\n",
    "\n",
    "def messages_for(website):\n",
    "    return [\n",
    "        {\"role\": \"system\", \"content\": system_prompt},\n",
    "        {\"role\": \"user\", \"content\": user_prompt_for(website)}\n",
    "    ]"
   ]
  },
  {
   "cell_type": "code",
   "execution_count": 30,
   "id": "36478464-39ee-485c-9f3f-6a4e458dbc9c",
   "metadata": {},
   "outputs": [
    {
     "data": {
      "text/plain": [
       "[{'role': 'system',\n",
       "  'content': 'Eres un asistente que analiza el contenido de un sitio web y proporciona un breve resumen, ignorando el texto que podría estar relacionado con la navegación. Responder en Markdown.'},\n",
       " {'role': 'user',\n",
       "  'content': 'Estás viendo un sitio web titulado Inicio - Instituto de Biotecnología - UNAM\\nEl contenido de este sitio web es el siguiente;     proporciona un breve resumen de este sitio web en formato Markdown.     Si incluye noticias, productos o anuncios, resúmelos también.\\n\\nMenú\\nInvestigación\\nÁreas\\nCristalografía\\nBioinformática Genómica\\nBioingeniería\\nBiología Molecular de Eucariotes\\nFisiología\\nMicrobiología\\nToxicología\\nVirología\\nOtros\\nDepartamentos\\nBiología Molecular de Plantas\\nGenética del Desarrollo y Fisiología Molecular\\nIngeniería Celular y Biocatálisis\\nMedicina Molecular y Bioprocesos\\nMicrobiología Molecular\\nEstudia con nosotros\\nFacilidades y Servicios\\nNoticias y eventos\\nComunicados UNAM\\nComunicado IBt\\nDistinciones y Premios\\nEventos Académicos\\nSeminarios\\nIniciar sesión\\nMenú\\nIniciar sesión\\nIniciar sesión\\n×\\nUsuario*\\nContraseña*\\nCancelar\\nIniciar sesiï¿½n\\nInicio\\nSobre Nosotros y Nuestra Organización\\nInvestigación\\nÁreas\\nCristalografía\\nBioinformática Genómica\\nBioingeniería\\nBiología Molecular de Eucariotes\\nFisiología\\nMicrobiología\\nToxicología\\nVirología\\nOtros\\nDepartamentos\\nBiología Molecular de Plantas\\nGenética del Desarrollo y Fisiología Molecular\\nIngeniería Celular y Biocatálisis\\nMedicina Molecular y Bioprocesos\\nMicrobiología Molecular\\nEstudia con nosotros\\nÚltimas publicaciones\\nEdiciones del IBt\\nBiblioteca\\nFacilidades y servicios\\nInformación Institucional\\nNuestra gente\\nContacto\\nNormatividad\\nNoticias\\nComunicados UNAM\\nComunicado IBT\\nDistinciones y Premios\\nEventos\\nEvento Académico\\nSeminarios\\nBiotecnología y Sociedad\\nInicio\\nSobre Nosotros y Nuestra Organización\\nInvestigación\\nÁreas\\nCristalografía\\nBioinformática Genómica\\nBioingeniería\\nBiología Molecular de Eucariotes\\nFisiología\\nMicrobiología\\nToxicología\\nVirología\\nOtros\\nDepartamentos\\nBiología Molecular de Plantas\\nGenética del Desarrollo y Fisiología Molecular\\nIngeniería Celular y Biocatálisis\\nMedicina Molecular y Bioprocesos\\nMicrobiología Molecular\\nEstudia con nosotros\\nÚltimas publicaciones\\nEdiciones del IBt\\nBiblioteca\\nFacilidades y servicios\\nInformación Institucional\\nNuestra gente\\nContacto\\nNormatividad\\nNoticias\\nComunicados UNAM\\nComunicado IBT\\nDistinciones y Premios\\nEventos\\nEvento Académico\\nSeminarios\\nBiotecnología y Sociedad\\nNoticias, Eventos...\\nAcrecentar, preservar y profundizar el liderazgo y contribuciones del IBt a la ciencia, tecnología y la sociedad\\nDescubre lo que hacemos.\\nContamos con una amplia oferta: doctorados, maestrías, licenciaturas y cursos.\\nÚltimas publicaciones\\nEdiciones del IBt\\nBiblioteca\\nMicroscopía Avanzada\\nSecuenciación Masiva y Bioinformática\\nLaboratorio Universitario de Proteómica (LUP)\\nSíntesis y Secuenciación de ADN\\nLAMMB\\nVer todos\\nActas y Acuerdos del Consejo Interno\\nPlan de Desarrollo Institucional 2021-2025\\nSubcomité Académico del Posgrado en Ciencias Bioquímicas\\nActas del Subcomite Académico del Posgrado en CBQ-Ibt\\nInformes Institucionales\\nVer todos\\nNuestra Gente\\ny\\nContacto\\nContamos con una amplia oferta: doctorados, maestrías, licenciaturas y cursos.\\nComisión Local de Seguridad y Protección.\\nUnidad Interna de Protección Civil.\\nUsuarios de Radioactividad.\\nComité de Bioética.\\nComisión Interna de Bioseguridad.\\nComité de Ética e Integridad Científica.\\nComisión Interna de Igualdad de Género.\\nPersonas Orientadoras Comunitarias.\\nNoticias\\nDistinciones\\nLa Junta de Gobierno designa a la Dra. Laura Palomares como titular de la Dirección del IBt-UNAM\\nEl Instituto de Biotecnología de la UNAM tiene el gusto de informarles que, el martes 24 de marzo de 2025, la\\nJunta de Gobierno de la UNAM designó a la Dra. Laura Alicia Palomares Aguilera como titular de la Dirección del Instituto de Biotecnología\\npara un segundo periodo\\n, comprendido de marzo de 2025 a marzo de 2029.\\nAsimismo, el Dr. Leonardo Lomelí Vanegas manifestó una felicitación, extensiva al personal del IBt, por la labor y los logros obtenidos en el cuatrienio 2021 \\x96 2025 bajo su Dirección.\\n¡Enhorabuena Dra. Laura Palomares!\\nFecha de publicación: 26-Marzo-2025\\nVer más\\nEventos\\nSeminarios\\nStructural studies of angiomotin (AMOT)\\nThe Hippo pathway is crucial for tumor suppression and is genetically altered in 10% of all human cancers. Hippo signaling regulates tissue proliferation, development, and apoptosis, and is a leading target for anticancer therapeutic development. Angiomotin (AMOT) functions as the central signaling platform that integrates Hippo signaling inputs and transduces them into biological outputs that either consolidate tight junctions and cell homeostasis (HIPPO \\x93on\\x94) or promote actin assembly and proliferative gene transcription (HIPPO \\x93off\\x94). In the Sundquist lab we propose to define the biochemistry and structural biology of central AMOT assemblies, both free and in complex with actin, inhibitory kinases, tumor suppressors, transcriptional co-activators, and ubiquitation enzymes. The completion of these aims will: 1) reveal the architectures of AMOT assemblies, 2) provide insights into how these platforms promote actin polymerization and thereby activate proliferation, and 3) position us well to obtain external funding for more comprehensive structural and functional studies of different motin family members, including other AMOT family isoforms and their complexes with the Merlin tumor suppressor, the HECT ubiquitin E3 ligase NEDD4L, inhibitory LATS1/2 kinases, and YAP/TAZ transcriptional coactivators.\\nFecha del evento: 21-Abril-2025\\nVer más\\nBiotecnología y Sociedad\\nNoticias sobre Transgénicos\\nLa importancia vital y estratégica para México de los organismos transgénicos y sus productos.\\nBiotecnología: Organismos transgénicos, sus grandes beneficios y la ausencia de daño\\r\\nDr. Francisco G. Bolívar Zapata.\\r\\nAula Mayor de El Colegio Nacional.\\r\\nCiudad de México, viernes 23 de agosto de 2019\\nFecha de actualización: 10-Diciembre-2020\\nVer más\\ninformes@ibt.unam.mx\\nPide tu deseo\\n.\\nProtocolo para la atención integral de casos de violencia por razones de género en la UNAM. (PDF)\\n.\\nDefensoría de los Derechos Universitarios, Igualdad y Atención de la Violencia de Género\\n.\\n¿Cómo iniciar una queja?\\n.\\nRuta de atención de quejas por violencia de género\\n.\\nS.O.S.\\nTeléfonos de Emergencia.\\nReporte de incidentes y accidentes\\n.\\nSalud Mental IBt\\n.\\nProtocolos de Protección Civil\\n.\\nApoyo Psicológico (PDF)\\n.\\nInformación Legal.\\nAvisos de Privacidad\\n.\\nPrincipios del código de ética de la UNAM\\n.\\nCódigo de ética de la UNAM\\n.\\nConvocatorias de Concurso de Oposición Abierto Vigentes\\n.\\nUNAM - Ligas de interés.\\nUNAM\\nPágina del Rector\\nConsejo Universitario\\nCoordinación de la Investigación Científica\\nDirección General de Asuntos del Personal Académico\\nGaceta UNAM\\nCatálogo del Patrimonio Cultural de la UNAM.\\nSistemas IBt - UNAM.\\nSiBioTec\\n.\\nSiGABioTec.\\nRegistro Interno de Personas\\n.\\nCorreo IBt en Gmail\\n.\\nSolicitud de Videoconferencia.\\nUnidad de Cómputo'}]"
      ]
     },
     "execution_count": 30,
     "metadata": {},
     "output_type": "execute_result"
    }
   ],
   "source": [
    "messages_for(frog)"
   ]
  },
  {
   "cell_type": "markdown",
   "id": "16f49d46-bf55-4c3e-928f-68fc0bf715b0",
   "metadata": {},
   "source": [
    "## Es hora de unirlo todo: ¡la API para OpenAI es muy simple!"
   ]
  },
  {
   "cell_type": "code",
   "execution_count": 31,
   "id": "905b9919-aba7-45b5-ae65-81b3d1d78e34",
   "metadata": {},
   "outputs": [],
   "source": [
    "# Y ahora: llama a la API de OpenAI. ¡Te resultará muy familiar!\n",
    "\n",
    "def summarize(url):\n",
    "    website = Website(url)\n",
    "    response = openai.chat.completions.create(\n",
    "        model = \"gpt-4o-mini\",\n",
    "        messages = messages_for(website)\n",
    "    )\n",
    "    return response.choices[0].message.content"
   ]
  },
  {
   "cell_type": "code",
   "execution_count": 32,
   "id": "05e38d41-dfa4-4b20-9c96-c46ea75d9fb5",
   "metadata": {},
   "outputs": [
    {
     "data": {
      "text/plain": [
       "'# Resumen del Sitio Web - Frogames\\n\\nFrogames es una plataforma de formación online galardonada que se especializa en cursos relacionados con la tecnología y el desarrollo de habilidades digitales. Ofrecen una amplia variedad de cursos en áreas como programación de videojuegos, inteligencia artificial, machine learning, desarrollo de aplicaciones y ciencia de datos, dirigidos a estudiantes de todos los niveles.\\n\\n## Características Principales\\n- **Cursos Online**: Ofrecen una amplia gama de cursos organizados en rutas temáticas, donde los estudiantes pueden aprender progresivamente.\\n- **Instructores Expertos**: El equipo docente está compuesto por profesionales del sector que acompañan a los estudiantes durante su proceso de aprendizaje.\\n- **Certificados Blockchain**: Los estudiantes reciben títulos verificados mediante tecnología blockchain, que son fácilmente compartibles para mejorar su currículum.\\n- **Actualizaciones Constantes**: Se añaden nuevos cursos semanalmente y se actualizan las rutas de aprendizaje.\\n\\n## Cursos Destacados\\nAlgunos de los cursos más populares incluyen:\\n- **Google Classroom**: Domina la enseñanza digital.\\n- **Domina la IA para Mejorar tu Productividad**.\\n- **Curso Completo de Python de la A a la Z**.\\n- **Machine Learning de la A a la Z**.\\n- **Curso Completo de Unreal Engine 5**.\\n\\n## Opiniones de Estudiantes\\nLos estudiantes destacan la calidad del contenido, la pertinencia de los cursos y la atención recibida por parte de los instructores. Muchos mencionan su satisfacción con la plataforma y cómo les ha ayudado en su desarrollo personal y profesional.\\n\\n## Ofertas para Empresas\\nFrogames también ofrece capacitación para empresas, ayudando a mejorar las competencias digitales de los empleados mediante sus formaciones personalizadas.\\n\\n## Conclusión\\nFrogames es una opción sólida para quienes buscan aprender sobre tecnología y mejorar sus habilidades digitales de manera accesible y efectiva.'"
      ]
     },
     "execution_count": 32,
     "metadata": {},
     "output_type": "execute_result"
    }
   ],
   "source": [
    "summarize(\"https://cursos.frogamesformacion.com\")"
   ]
  },
  {
   "cell_type": "code",
   "execution_count": 33,
   "id": "3d926d59-450e-4609-92ba-2d6f244f1342",
   "metadata": {},
   "outputs": [],
   "source": [
    "# Una función para mostrar esto de forma clara en la salida de Jupyter, usando markdown\n",
    "\n",
    "def display_summary(url):\n",
    "    summary = summarize(url)\n",
    "    display(Markdown(summary))"
   ]
  },
  {
   "cell_type": "code",
   "execution_count": 14,
   "id": "3018853a-445f-41ff-9560-d925d1774b2f",
   "metadata": {},
   "outputs": [
    {
     "data": {
      "text/markdown": [
       "# Resumen del sitio web Frogames\n",
       "\n",
       "Frogames es una plataforma de formación online especializada en cursos de programación, inteligencia artificial, desarrollo de aplicaciones, ciencia de datos y más. Ofrece aprendizaje práctico y dinámico con un enfoque en juegos y desarrollo digital.\n",
       "\n",
       "## Ofertas y Cursos\n",
       "- **Cursos a 9.99€**: Se promocionan cursos a un precio accesible, disponibles exclusivamente a través de sus redes sociales.\n",
       "- **Certificados**: Los estudiantes obtienen certificados verificados por blockchain, lo que mejora su currículum.\n",
       "- **Nuevas actualizaciones**: Se añaden nuevos cursos y se actualizan los existentes de manera constante.\n",
       "  \n",
       "## Cursos destacados\n",
       "- Ingeniería de LLM: IA Generativa\n",
       "- Fundamentos Intermedios de Matemáticas para Machine Learning\n",
       "- Curso Completo de Python \n",
       "- Trading algorítmico para principiantes\n",
       "\n",
       "## Testimonios\n",
       "Los estudiantes destacan la calidad del contenido y el apoyo de instructores expertos, lo cual facilita un aprendizaje efectivo en diversas áreas tecnológicas.\n",
       "\n",
       "## Reconocimientos\n",
       "Frogames ha sido galardonada como la \"Enseñanza online de datos y competencias digitales más innovadora de Europa, 2023\", lo que refleja su compromiso con la excelencia educativa.\n",
       "\n",
       "## Programa para Empresas\n",
       "Frogames también ofrece una formación específica para empresas, ayudando a mejorar las habilidades y competencias de sus empleados.\n",
       "\n",
       "## Oportunidad de un curso gratuito\n",
       "Se ofrece un curso gratuito inicial para que los nuevos estudiantes se familiaricen con la plataforma y su metodología de enseñanza. \n",
       "\n",
       "En resumen, Frogames es un recurso valioso para quienes buscan desarrollarse en el ámbito de la tecnología a través de cursos accesibles y de calidad."
      ],
      "text/plain": [
       "<IPython.core.display.Markdown object>"
      ]
     },
     "metadata": {},
     "output_type": "display_data"
    }
   ],
   "source": [
    "display_summary(\"https://cursos.frogamesformacion.com\")"
   ]
  },
  {
   "cell_type": "markdown",
   "id": "b3bcf6f4-adce-45e9-97ad-d9a5d7a3a624",
   "metadata": {},
   "source": [
    "# Probemos con más sitios web\n",
    "\n",
    "Ten en cuenta que esto solo funcionará en sitios web que se puedan extraer con este enfoque simplista.\n",
    "\n",
    "Los sitios web que se renderizan con Javascript, como las aplicaciones React, no se mostrarán. Consulta la carpeta de contribuciones de la comunidad para obtener una implementación de Selenium que solucione este problema. Deberás leer sobre la instalación de Selenium (¡pregunta a ChatGPT!).\n",
    "\n",
    "Además, los sitios web protegidos con CloudFront (y similares) pueden generar errores 403. Muchas gracias, Andy J, por señalar esto.\n",
    "\n",
    "¡Pero muchos sitios web funcionarán perfectamente!"
   ]
  },
  {
   "cell_type": "code",
   "execution_count": 35,
   "id": "45d83403-a24c-44b5-84ac-961449b4008f",
   "metadata": {},
   "outputs": [
    {
     "data": {
      "text/markdown": [
       "# Resumen del sitio web de CNN\n",
       "\n",
       "El sitio web de CNN ofrece noticias de última hora y análisis en una amplia variedad de temas, incluyendo:\n",
       "\n",
       "## Secciones Principales\n",
       "- **Noticias de EE.UU.**\n",
       "- **Noticias Internacionales**\n",
       "- **Política**\n",
       "- **Negocios**\n",
       "- **Salud**\n",
       "- **Entretenimiento**\n",
       "- **Ciencia**\n",
       "- **Clima y Medio Ambiente**\n",
       "- **Deportes**\n",
       "\n",
       "## Noticias Destacadas\n",
       "- **Guerra Ucrania-Rusia**: Estados Unidos y Ucrania sostendrán conversaciones de alto nivel mientras la guerra continúa sin resolver.\n",
       "- **Crisis en Israel y Palestina**: Actualizaciones sobre conflictos recientes y sus repercusiones.\n",
       "- **Política de EE.UU.**: Análisis sobre las tarifas de Trump y sus efectos en los mercados, así como otras decisiones políticas que afectan la economía.\n",
       "- **Eventos de Entretenimiento**: Novedades sobre el mundo del cine, como la revelación de la causa de muerte de Michelle Trachtenberg y la situación del Fyre Fest 2.\n",
       "\n",
       "## Innovaciones y Ciencia\n",
       "- Un estudio reciente sugiere que hay indicios de vida en un planeta distante.\n",
       "- **Salud**: Investigaciones sobre cómo caminar más rápido puede reducir el riesgo de ritmos cardíacos anormales.\n",
       "\n",
       "## Últimas Noticias\n",
       "- **Sucesos**: Reportes de tiroteos y otras incidencias significativas en EE.UU.\n",
       "- **Cultura Pop**: Comentarios de celebridades sobre sus experiencias en la industria.\n",
       "\n",
       "Este portal es un recurso integral para mantenerse informado sobre eventos actuales y temas de interés global, con contenido variado que incluye artículos, análisis y videos."
      ],
      "text/plain": [
       "<IPython.core.display.Markdown object>"
      ]
     },
     "metadata": {},
     "output_type": "display_data"
    }
   ],
   "source": [
    "display_summary(\"https://cnn.com\")"
   ]
  },
  {
   "cell_type": "code",
   "execution_count": 36,
   "id": "75e9fd40-b354-4341-991e-863ef2e59db7",
   "metadata": {},
   "outputs": [
    {
     "data": {
      "text/markdown": [
       "# Resumen del sitio web \"Just a moment...\"\n",
       "\n",
       "El sitio web parece estar experimentando una interrupción o requiere la habilitación de JavaScript y cookies para poder acceder a su contenido. No se proporciona información adicional, noticias, productos o anuncios en este momento. \n",
       "\n",
       "La página indica que el acceso está restringido hasta que se cumplan ciertos requisitos técnicos en el navegador del usuario."
      ],
      "text/plain": [
       "<IPython.core.display.Markdown object>"
      ]
     },
     "metadata": {},
     "output_type": "display_data"
    }
   ],
   "source": [
    "display_summary(\"https://anthropic.com\")"
   ]
  },
  {
   "cell_type": "markdown",
   "id": "c951be1a-7f1b-448f-af1f-845978e47e2c",
   "metadata": {},
   "source": [
    "## Aplicaciones empresariales\n",
    "\n",
    "En este ejercicio, experimentó la llamada a la API de un modelo de frontera (un modelo líder en la frontera de la IA) por primera vez. Esto se aplica ampliamente en todos los casos de uso de Gen AI y usaremos API como OpenAI en muchas etapas del curso, además de crear nuestros propios LLM.\n",
    "\n",
    "Más específicamente, hemos aplicado esto a Resumen: un caso de uso clásico de Gen AI para hacer un resumen. Esto se puede aplicar a cualquier vertical empresarial: resumir las noticias, resumir el desempeño financiero, resumir un currículum en una carta de presentación; las aplicaciones son ilimitadas. Considere cómo podría aplicar Resumen en su negocio e intente crear un prototipo de solución."
   ]
  },
  {
   "cell_type": "markdown",
   "id": "36ed9f14-b349-40e9-a42c-b367e77f8bda",
   "metadata": {},
   "source": [
    "## Un ejercicio extra para quienes disfrutan del web scraping\n",
    "\n",
    "Puedes notar que si intentas `display_summary(\"https://openai.com\")` - ¡no funciona! Esto se debe a que OpenAI tiene un sitio web sofisticado que usa Javascript. Hay muchas formas de evitar esto con las que algunos de ustedes pueden estar familiarizados. Por ejemplo, Selenium es un marco muy popular que ejecuta un navegador detrás de escena, renderiza la página y te permite consultarla. Si tienes experiencia con Selenium, Playwright o similar, no dudes en mejorar la clase Website para usarlos. En la carpeta de contribuciones de la comunidad, encontrarás una solución de Selenium de ejemplo de un estudiante (¡gracias!)"
   ]
  },
  {
   "cell_type": "markdown",
   "id": "eeab24dc-5f90-4570-b542-b0585aca3eb6",
   "metadata": {},
   "source": [
    "# Compartir tu código\n",
    "\n",
    "¡Me encantaría que compartieras tu código después para que yo pueda compartirlo con otros! Notarás que algunos estudiantes ya han realizado cambios (incluida una implementación de Selenium) que encontrarás en la carpeta community-contributions. Si deseas agregar tus cambios a esa carpeta, envía una solicitud de incorporación de cambios con tus nuevas versiones en esa carpeta y yo fusionaré tus cambios.\n",
    "\n",
    "Si no eres un experto en Git (¡y yo no lo soy!), entonces GPT ha dado algunas instrucciones útiles sobre cómo enviar una solicitud de incorporación de cambios. Es un proceso un poco complicado, pero una vez que lo hayas hecho una vez, estará bastante claro. Como consejo profesional: es mejor si borras las salidas de tus cuadernos Jupyter (Editar >> Limpiar las salidas de todas las celdas y luego Guardar) para tener cuadernos limpios.\n",
    "\n",
    "Instrucciones de relaciones públicas cortesía de un amigo de IA: https://chatgpt.com/share/670145d5-e8a8-8012-8f93-39ee4e248b4c"
   ]
  },
  {
   "cell_type": "code",
   "execution_count": null,
   "id": "682eff74-55c4-4d4b-b267-703edbc293c7",
   "metadata": {},
   "outputs": [],
   "source": []
  }
 ],
 "metadata": {
  "kernelspec": {
   "display_name": "Python 3 (ipykernel)",
   "language": "python",
   "name": "python3"
  },
  "language_info": {
   "codemirror_mode": {
    "name": "ipython",
    "version": 3
   },
   "file_extension": ".py",
   "mimetype": "text/x-python",
   "name": "python",
   "nbconvert_exporter": "python",
   "pygments_lexer": "ipython3",
   "version": "3.11.12"
  }
 },
 "nbformat": 4,
 "nbformat_minor": 5
}
