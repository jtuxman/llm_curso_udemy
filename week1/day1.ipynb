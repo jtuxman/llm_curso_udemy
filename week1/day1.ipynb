{
 "cells": [
  {
   "cell_type": "markdown",
   "id": "d15d8294-3328-4e07-ad16-8a03e9bbfdb9",
   "metadata": {},
   "source": [
    "# Gratificación instantánea\n",
    "\n",
    "## ¡Tu primer proyecto de LLM de Frontier!\n",
    "\n",
    "Construyamos una solución LLM útil en cuestión de minutos.\n",
    "\n",
    "Al finalizar este curso, habrás creado una solución de IA autónoma de Agentic con 7 agentes que colaboran para resolver un problema comercial. ¡Todo a su debido tiempo! Comenzaremos con algo más pequeño...\n",
    "\n",
    "Nuestro objetivo es codificar un nuevo tipo de navegador web. Dale una URL y responderá con un resumen. ¡El Reader's Digest de Internet!\n",
    "\n",
    "Antes de comenzar, deberías haber completado la configuración para [PC](../SETUP-PC.md) o [Mac](../SETUP-mac.md) y, con suerte, habrás iniciado este laboratorio de Jupyter desde el directorio raíz del proyecto, con tu entorno activado.\n",
    "\n",
    "## Si eres nuevo en Jupyter Lab\n",
    "\n",
    "¡Bienvenido al maravilloso mundo de la experimentación en ciencia de datos! Una vez que hayas usado Jupyter Lab, te preguntarás cómo pudiste vivir sin él. Simplemente haga clic en cada \"celda\" que contenga código, como la celda inmediatamente debajo de este texto, y presione Shift+Return para ejecutar esa celda. Como desee, puede agregar una celda con el botón + en la barra de herramientas e imprimir valores de variables o probar variaciones.\n",
    "\n",
    "He escrito un cuaderno llamado [Guía para Jupyter](Guide%20to%20Jupyter.ipynb) para ayudarlo a familiarizarse más con Jupyter Labs, incluida la adición de comentarios de Markdown, el uso de `!` para ejecutar comandos de shell y `tqdm` para mostrar el progreso.\n",
    "\n",
    "Si prefiere trabajar en IDE como VSCode o Pycharm, ambos funcionan muy bien con estos cuadernos de laboratorio también.\n",
    "\n",
    "## Si desea repasar su Python\n",
    "\n",
    "He agregado un cuaderno llamado [Python intermedio](Intermediate%20Python.ipynb) para ayudarlo a ponerse al día. Pero no deberías probarlo si ya tienes una buena idea de lo que hace este código:\n",
    "`yield from {book.get(\"author\") for book in books if book.get(\"author\")}`\n",
    "\n",
    "## Estoy aquí para ayudarte\n",
    "\n",
    "Si tienes algún problema, no dudes en ponerte en contacto conmigo.\n",
    "Estoy disponible a través de la plataforma,o en https://www.linkedin.com/in/juan-gabriel-gomila-salas/ si quieres conectarte (¡y me encanta conectarme!).\n",
    "\n",
    "## Más resolución de problemas\n",
    "\n",
    "Consulta el cuaderno de [solución de problemas](troubleshooting.ipynb) en esta carpeta para diagnosticar y solucionar problemas comunes.\n",
    "\n",
    "## ¡Si esto ya es pan comido!\n",
    "\n",
    "Si ya te sientes cómodo con el material de hoy, no te desanimes; puedes avanzar rápidamente en los primeros laboratorios; profundizaremos mucho más a medida que avancen las semanas.\n",
    "\n",
    "## Valor comercial de estos ejercicios\n",
    "\n",
    "Una última reflexión. Aunque he diseñado estos cuadernos para que sean educativos, también he intentado que sean divertidos. Haremos cosas divertidas, como que los estudiantes de LLM cuenten chistes y discutan entre ellos. Pero, fundamentalmente, mi objetivo es enseñar habilidades que se puedan aplicar en los negocios. Explicaré las implicaciones comerciales a medida que avancemos y vale la pena tener esto en cuenta: a medida que adquiera experiencia con modelos y técnicas, piense en formas en las que podría poner esto en práctica en el trabajo hoy. Comuníquese conmigo si desea hablar más sobre esto o si tiene ideas para compartir conmigo."
   ]
  },
  {
   "cell_type": "code",
   "execution_count": null,
   "id": "4e2a9393-7767-488e-a8bf-27c12dca35bd",
   "metadata": {},
   "outputs": [],
   "source": [
    "# imports\n",
    "\n",
    "import os\n",
    "import requests\n",
    "from dotenv import load_dotenv\n",
    "from bs4 import BeautifulSoup\n",
    "from IPython.display import Markdown, display\n",
    "from openai import OpenAI\n",
    "print (\"OK\")\n",
    "\n",
    "# Si recibe un error al ejecutar esta celda, diríjase al cuaderno de solución de problemas (troubleshooting.ipynb)."
   ]
  },
  {
   "cell_type": "markdown",
   "id": "6900b2a8-6384-4316-8aaa-5e519fca4254",
   "metadata": {},
   "source": [
    "# Conexión a OpenAI\n",
    "\n",
    "La siguiente celda es donde cargamos las variables de entorno en su archivo `.env` y nos conectamos a OpenAI.\n",
    "\n",
    "## Solución de problemas si tiene problemas:\n",
    "\n",
    "Vaya al cuaderno [solución de problemas](troubleshooting.ipynb) en esta carpeta para obtener el código paso a paso para identificar la causa raíz y solucionarlo.\n",
    "\n",
    "Si realiza un cambio, intente reiniciar el \"Kernel\" (el proceso de Python que se encuentra detrás de este cuaderno) mediante el menú Kernel >> Reiniciar Kernel y borrar los resultados de todas las celdas. Luego, intente con este cuaderno nuevamente, comenzando desde arriba.\n",
    "\n",
    "O bien, ¡contácteme! Envíeme un mensaje a través del foro del curso y haremos que esto funcione.\n",
    "\n",
    "¿Tiene alguna inquietud sobre los costos de la API? Vea mis notas en el README: los costos deberían ser mínimos y puede controlarlos en cada punto. También puede usar Ollama como una alternativa gratuita, que analizamos durante el día 2."
   ]
  },
  {
   "cell_type": "code",
   "execution_count": null,
   "id": "7b87cadb-d513-4303-baee-a37b6f938e4d",
   "metadata": {},
   "outputs": [],
   "source": [
    "# Cargamos las variables del fichero .env\n",
    "\n",
    "load_dotenv()\n",
    "api_key = os.getenv('OPENAI_API_KEY')\n",
    "\n",
    "# Check the key\n",
    "\n",
    "if not api_key:\n",
    "    print(\"No se encontró ninguna clave API: diríjase al cuaderno de resolución de problemas en esta carpeta para identificarla y solucionarla.\")\n",
    "elif not api_key.startswith(\"sk-proj-\"):\n",
    "    print(\"Se encontró una clave API, pero no inicia sk-proj-; verifique que esté usando la clave correcta; consulte el cuaderno de resolución de problemas\")\n",
    "elif api_key.strip() != api_key:\n",
    "    print(\"Se encontró una clave API, pero parece que puede tener espacios o caracteres de tabulación al principio o al final; elimínelos; consulte el cuaderno de resolución de problemas\")\n",
    "else:\n",
    "    print(\"¡Se encontró la clave API y hasta ahora parece buena!\")\n"
   ]
  },
  {
   "cell_type": "code",
   "execution_count": null,
   "id": "019974d9-f3ad-4a8a-b5f9-0a3719aea2d3",
   "metadata": {},
   "outputs": [],
   "source": [
    "openai = OpenAI()\n",
    "print (\"OK\")\n",
    "\n",
    "# Si esto no funciona, prueba con el menú Kernel >> Reiniciar Kernel y borrar las salidas de todas las celdas, luego ejecuta las celdas desde la parte superior de este cuaderno hacia abajo.\n",
    "# Si TODAVÍA no funciona (¡qué horror!), consulta el cuaderno de resolución de problemas o prueba la siguiente línea:\n",
    "# openai = OpenAI(api_key=\"your-key-here-starting-sk-proj-\")"
   ]
  },
  {
   "cell_type": "code",
   "execution_count": null,
   "id": "c5e793b2-6775-426a-a139-4848291d0463",
   "metadata": {},
   "outputs": [],
   "source": [
    "# Una clase para representar una página web\n",
    "# Si no estás familiarizado con las clases, consulta el cuaderno \"Python intermedio\"\n",
    "\n",
    "class Website:\n",
    "    \"\"\"\n",
    "    Una clase de utilidad para representar un sitio web que hemos scrappeado\n",
    "    \"\"\"\n",
    "\n",
    "    def __init__(self, url):\n",
    "        \"\"\"\n",
    "        Crea este objeto de sitio web a partir de la URL indicada utilizando la biblioteca BeautifulSoup\n",
    "        \"\"\"\n",
    "        self.url = url\n",
    "        response = requests.get(url)\n",
    "        soup = BeautifulSoup(response.content, 'html.parser')\n",
    "        self.title = soup.title.string if soup.title else \"No tiene título\"\n",
    "        for irrelevant in soup.body([\"script\", \"style\", \"img\", \"input\"]):\n",
    "            irrelevant.decompose()\n",
    "        self.text = soup.body.get_text(separator=\"\\n\", strip=True)"
   ]
  },
  {
   "cell_type": "code",
   "execution_count": null,
   "id": "2ef960cf-6dc2-4cda-afb3-b38be12f4c97",
   "metadata": {},
   "outputs": [],
   "source": [
    "# Vamos a probar\n",
    "\n",
    "frog = Website(\"https://cursos.frogamesformacion.com\")\n",
    "frog = Website(\"https://ibt.unam.mx\")\n",
    "print(frog.title)\n",
    "print(frog.text)"
   ]
  },
  {
   "cell_type": "markdown",
   "id": "6a478a0c-2c53-48ff-869c-4d08199931e1",
   "metadata": {},
   "source": [
    "## Tipos de indicaciones/prompts\n",
    "\n",
    "Quizás ya sepas esto, pero si no, te resultará muy familiar.\n",
    "\n",
    "Los modelos como GPT4o han sido entrenados para recibir instrucciones de una manera particular.\n",
    "\n",
    "Esperan recibir:\n",
    "\n",
    "**Una indicación del sistema** que les indique qué tarea están realizando y qué tono deben usar\n",
    "\n",
    "**Una indicación del usuario**: el inicio de la conversación al que deben responder"
   ]
  },
  {
   "cell_type": "code",
   "execution_count": null,
   "id": "abdb8417-c5dc-44bc-9bee-2e059d162699",
   "metadata": {},
   "outputs": [],
   "source": [
    "# Define nuestro mensaje de sistema: puedes experimentar con esto más tarde, cambiando la última oración a \"Responder en Markdown en español\".\n",
    "\n",
    "system_prompt = \"Eres un asistente que analiza el contenido de un sitio web \\\n",
    "y proporciona un breve resumen, ignorando el texto que podría estar relacionado con la navegación. \\\n",
    "Responder en Markdown.\"\n",
    "print(system_prompt)"
   ]
  },
  {
   "cell_type": "code",
   "execution_count": null,
   "id": "f0275b1b-7cfe-4f9d-abfa-7650d378da0c",
   "metadata": {},
   "outputs": [],
   "source": [
    "# Una función que escribe un mensaje de usuario que solicita resúmenes de sitios web:\n",
    "\n",
    "def user_prompt_for(website):\n",
    "    user_prompt = f\"Estás viendo un sitio web titulado {website.title}\"\n",
    "    user_prompt += \"\\nEl contenido de este sitio web es el siguiente; \\\n",
    "    proporciona un breve resumen de este sitio web en formato Markdown. \\\n",
    "    Si incluye noticias, productos o anuncios, resúmelos también.\\n\\n\"\n",
    "    user_prompt += website.text\n",
    "    return user_prompt"
   ]
  },
  {
   "cell_type": "code",
   "execution_count": null,
   "id": "26448ec4-5c00-4204-baec-7df91d11ff2e",
   "metadata": {},
   "outputs": [],
   "source": [
    "print(user_prompt_for(frog))"
   ]
  },
  {
   "cell_type": "markdown",
   "id": "ea211b5f-28e1-4a86-8e52-c0b7677cadcc",
   "metadata": {},
   "source": [
    "## Mensajes\n",
    "\n",
    "La API de OpenAI espera recibir mensajes en una estructura particular.\n",
    "Muchas de las otras API comparten esta estructura:\n",
    "\n",
    "```\n",
    "[\n",
    "    {\"role\": \"system\", \"content\": \"el mensaje de sistema va aquí\"},\n",
    "    {\"role\": \"user\", \"content\": \"el mensaje de usuario va aquí\"}\n",
    "]"
   ]
  },
  {
   "cell_type": "code",
   "execution_count": null,
   "id": "0134dfa4-8299-48b5-b444-f2a8c3403c88",
   "metadata": {},
   "outputs": [],
   "source": [
    "# Puedes ver cómo esta función crea exactamente el formato anterior\n",
    "\n",
    "def messages_for(website):\n",
    "    return [\n",
    "        {\"role\": \"system\", \"content\": system_prompt},\n",
    "        {\"role\": \"user\", \"content\": user_prompt_for(website)}\n",
    "    ]"
   ]
  },
  {
   "cell_type": "code",
   "execution_count": null,
   "id": "36478464-39ee-485c-9f3f-6a4e458dbc9c",
   "metadata": {},
   "outputs": [],
   "source": [
    "messages_for(frog)"
   ]
  },
  {
   "cell_type": "markdown",
   "id": "16f49d46-bf55-4c3e-928f-68fc0bf715b0",
   "metadata": {},
   "source": [
    "## Es hora de unirlo todo: ¡la API para OpenAI es muy simple!"
   ]
  },
  {
   "cell_type": "code",
   "execution_count": null,
   "id": "905b9919-aba7-45b5-ae65-81b3d1d78e34",
   "metadata": {},
   "outputs": [],
   "source": [
    "# Y ahora: llama a la API de OpenAI. ¡Te resultará muy familiar!\n",
    "\n",
    "def summarize(url):\n",
    "    website = Website(url)\n",
    "    response = openai.chat.completions.create(\n",
    "        model = \"gpt-4o-mini\",\n",
    "        messages = messages_for(website)\n",
    "    )\n",
    "    return response.choices[0].message.content"
   ]
  },
  {
   "cell_type": "code",
   "execution_count": null,
   "id": "05e38d41-dfa4-4b20-9c96-c46ea75d9fb5",
   "metadata": {},
   "outputs": [],
   "source": [
    "summarize(\"https://cursos.frogamesformacion.com\")"
   ]
  },
  {
   "cell_type": "code",
   "execution_count": null,
   "id": "3d926d59-450e-4609-92ba-2d6f244f1342",
   "metadata": {},
   "outputs": [],
   "source": [
    "# Una función para mostrar esto de forma clara en la salida de Jupyter, usando markdown\n",
    "\n",
    "def display_summary(url):\n",
    "    summary = summarize(url)\n",
    "    display(Markdown(summary))"
   ]
  },
  {
   "cell_type": "code",
   "execution_count": null,
   "id": "3018853a-445f-41ff-9560-d925d1774b2f",
   "metadata": {},
   "outputs": [],
   "source": [
    "display_summary(\"https://cursos.frogamesformacion.com\")"
   ]
  },
  {
   "cell_type": "markdown",
   "id": "b3bcf6f4-adce-45e9-97ad-d9a5d7a3a624",
   "metadata": {},
   "source": [
    "# Probemos con más sitios web\n",
    "\n",
    "Ten en cuenta que esto solo funcionará en sitios web que se puedan extraer con este enfoque simplista.\n",
    "\n",
    "Los sitios web que se renderizan con Javascript, como las aplicaciones React, no se mostrarán. Consulta la carpeta de contribuciones de la comunidad para obtener una implementación de Selenium que solucione este problema. Deberás leer sobre la instalación de Selenium (¡pregunta a ChatGPT!).\n",
    "\n",
    "Además, los sitios web protegidos con CloudFront (y similares) pueden generar errores 403. Muchas gracias, Andy J, por señalar esto.\n",
    "\n",
    "¡Pero muchos sitios web funcionarán perfectamente!"
   ]
  },
  {
   "cell_type": "code",
   "execution_count": null,
   "id": "45d83403-a24c-44b5-84ac-961449b4008f",
   "metadata": {},
   "outputs": [],
   "source": [
    "display_summary(\"https://cnn.com\")"
   ]
  },
  {
   "cell_type": "code",
   "execution_count": null,
   "id": "75e9fd40-b354-4341-991e-863ef2e59db7",
   "metadata": {},
   "outputs": [],
   "source": [
    "display_summary(\"https://anthropic.com\")"
   ]
  },
  {
   "cell_type": "markdown",
   "id": "c951be1a-7f1b-448f-af1f-845978e47e2c",
   "metadata": {},
   "source": [
    "## Aplicaciones empresariales\n",
    "\n",
    "En este ejercicio, experimentó la llamada a la API de un modelo de frontera (un modelo líder en la frontera de la IA) por primera vez. Esto se aplica ampliamente en todos los casos de uso de Gen AI y usaremos API como OpenAI en muchas etapas del curso, además de crear nuestros propios LLM.\n",
    "\n",
    "Más específicamente, hemos aplicado esto a Resumen: un caso de uso clásico de Gen AI para hacer un resumen. Esto se puede aplicar a cualquier vertical empresarial: resumir las noticias, resumir el desempeño financiero, resumir un currículum en una carta de presentación; las aplicaciones son ilimitadas. Considere cómo podría aplicar Resumen en su negocio e intente crear un prototipo de solución."
   ]
  },
  {
   "cell_type": "markdown",
   "id": "36ed9f14-b349-40e9-a42c-b367e77f8bda",
   "metadata": {},
   "source": [
    "## Un ejercicio extra para quienes disfrutan del web scraping\n",
    "\n",
    "Puedes notar que si intentas `display_summary(\"https://openai.com\")` - ¡no funciona! Esto se debe a que OpenAI tiene un sitio web sofisticado que usa Javascript. Hay muchas formas de evitar esto con las que algunos de ustedes pueden estar familiarizados. Por ejemplo, Selenium es un marco muy popular que ejecuta un navegador detrás de escena, renderiza la página y te permite consultarla. Si tienes experiencia con Selenium, Playwright o similar, no dudes en mejorar la clase Website para usarlos. En la carpeta de contribuciones de la comunidad, encontrarás una solución de Selenium de ejemplo de un estudiante (¡gracias!)"
   ]
  },
  {
   "cell_type": "markdown",
   "id": "eeab24dc-5f90-4570-b542-b0585aca3eb6",
   "metadata": {},
   "source": [
    "# Compartir tu código\n",
    "\n",
    "¡Me encantaría que compartieras tu código después para que yo pueda compartirlo con otros! Notarás que algunos estudiantes ya han realizado cambios (incluida una implementación de Selenium) que encontrarás en la carpeta community-contributions. Si deseas agregar tus cambios a esa carpeta, envía una solicitud de incorporación de cambios con tus nuevas versiones en esa carpeta y yo fusionaré tus cambios.\n",
    "\n",
    "Si no eres un experto en Git (¡y yo no lo soy!), entonces GPT ha dado algunas instrucciones útiles sobre cómo enviar una solicitud de incorporación de cambios. Es un proceso un poco complicado, pero una vez que lo hayas hecho una vez, estará bastante claro. Como consejo profesional: es mejor si borras las salidas de tus cuadernos Jupyter (Editar >> Limpiar las salidas de todas las celdas y luego Guardar) para tener cuadernos limpios.\n",
    "\n",
    "Instrucciones de relaciones públicas cortesía de un amigo de IA: https://chatgpt.com/share/670145d5-e8a8-8012-8f93-39ee4e248b4c"
   ]
  },
  {
   "cell_type": "code",
   "execution_count": null,
   "id": "682eff74-55c4-4d4b-b267-703edbc293c7",
   "metadata": {},
   "outputs": [],
   "source": []
  }
 ],
 "metadata": {
  "kernelspec": {
   "display_name": "Python 3 (ipykernel)",
   "language": "python",
   "name": "python3"
  },
  "language_info": {
   "codemirror_mode": {
    "name": "ipython",
    "version": 3
   },
   "file_extension": ".py",
   "mimetype": "text/x-python",
   "name": "python",
   "nbconvert_exporter": "python",
   "pygments_lexer": "ipython3",
   "version": "3.11.12"
  }
 },
 "nbformat": 4,
 "nbformat_minor": 5
}
